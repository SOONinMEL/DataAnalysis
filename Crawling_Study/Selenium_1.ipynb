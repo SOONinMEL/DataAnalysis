{
 "cells": [
  {
   "cell_type": "code",
   "execution_count": 1,
   "metadata": {},
   "outputs": [],
   "source": [
    "from selenium import webdriver as wb\n",
    "from selenium.webdriver.common.keys import Keys\n",
    "import time\n",
    "import pandas as pd"
   ]
  },
  {
   "cell_type": "code",
   "execution_count": 2,
   "metadata": {},
   "outputs": [],
   "source": [
    "driver=wb.Chrome()\n",
    "driver.get('https://www.hsd.co.kr/')"
   ]
  },
  {
   "cell_type": "code",
   "execution_count": 3,
   "metadata": {},
   "outputs": [
    {
     "name": "stderr",
     "output_type": "stream",
     "text": [
      "<ipython-input-3-f7d14fcbabf9>:2: DeprecationWarning: find_element_by_css_selector is deprecated. Please use find_element(by=By.CSS_SELECTOR, value=css_selector) instead\n",
      "  driver.find_element_by_css_selector('div.dp2>ul>li:nth-child(1)>a').text\n"
     ]
    },
    {
     "data": {
      "text/plain": [
       "''"
      ]
     },
     "execution_count": 3,
     "metadata": {},
     "output_type": "execute_result"
    }
   ],
   "source": [
    "# 선택자 개념\n",
    "driver.find_element_by_css_selector('div.dp2>ul>li:nth-child(1)>a').text"
   ]
  },
  {
   "cell_type": "code",
   "execution_count": 4,
   "metadata": {},
   "outputs": [],
   "source": [
    "# 이벤트를 제어하는 라이브러리\n",
    "# 마우스를 올려주겠다, 클릭한 상태를 유지시키겠다와 같은 드래그 앤 드롭 가능하게 해준다.\n",
    "from selenium.webdriver.common.action_chains import ActionChains"
   ]
  },
  {
   "cell_type": "code",
   "execution_count": 5,
   "metadata": {},
   "outputs": [
    {
     "name": "stderr",
     "output_type": "stream",
     "text": [
      "<ipython-input-5-d393bc94d0c4>:3: DeprecationWarning: find_element_by_css_selector is deprecated. Please use find_element(by=By.CSS_SELECTOR, value=css_selector) instead\n",
      "  elm_hover=driver.find_element_by_css_selector('#gnb > div.gnb_menu > ul > li:nth-child(3) > p > a')\n",
      "<ipython-input-5-d393bc94d0c4>:4: DeprecationWarning: find_element_by_css_selector is deprecated. Please use find_element(by=By.CSS_SELECTOR, value=css_selector) instead\n",
      "  elm_click=driver.find_element_by_css_selector('#gnb > div.gnb_menu > ul > li:nth-child(3) > div > ul > li:nth-child(1) > a')\n"
     ]
    }
   ],
   "source": [
    "# 1. 마우스를 올릴 요소(메뉴)\n",
    "# 2. 클릭할 요소(전체메뉴)\n",
    "elm_hover=driver.find_element_by_css_selector('#gnb > div.gnb_menu > ul > li:nth-child(3) > p > a')\n",
    "elm_click=driver.find_element_by_css_selector('#gnb > div.gnb_menu > ul > li:nth-child(3) > div > ul > li:nth-child(1) > a')"
   ]
  },
  {
   "cell_type": "code",
   "execution_count": 6,
   "metadata": {},
   "outputs": [],
   "source": [
    "actions=ActionChains(driver)\n",
    "#mover_to_element 내가 원하는 요소로 마우스를 움직여라\n",
    "actions.move_to_element(elm_hover)\n",
    "actions.click(elm_click)\n",
    "actions.perform()"
   ]
  },
  {
   "cell_type": "code",
   "execution_count": 7,
   "metadata": {},
   "outputs": [
    {
     "name": "stderr",
     "output_type": "stream",
     "text": [
      "<ipython-input-7-b0f37f78dcd5>:1: DeprecationWarning: find_elements_by_css_selector is deprecated. Please use find_elements(by=By.CSS_SELECTOR, value=css_selector) instead\n",
      "  title=driver.find_elements_by_css_selector('h4.h.fz_03')\n"
     ]
    }
   ],
   "source": [
    "title=driver.find_elements_by_css_selector('h4.h.fz_03')"
   ]
  },
  {
   "cell_type": "code",
   "execution_count": 9,
   "metadata": {},
   "outputs": [
    {
     "data": {
      "text/plain": [
       "'핫 치킨마요 볶음면'"
      ]
     },
     "execution_count": 9,
     "metadata": {},
     "output_type": "execute_result"
    }
   ],
   "source": [
    "title[0].text"
   ]
  },
  {
   "cell_type": "code",
   "execution_count": 11,
   "metadata": {},
   "outputs": [
    {
     "name": "stderr",
     "output_type": "stream",
     "text": [
      "<ipython-input-11-671231d6b99b>:1: DeprecationWarning: find_elements_by_css_selector is deprecated. Please use find_elements(by=By.CSS_SELECTOR, value=css_selector) instead\n",
      "  price=driver.find_elements_by_css_selector('div.item-price>strong')\n"
     ]
    }
   ],
   "source": [
    "price=driver.find_elements_by_css_selector('div.item-price>strong')"
   ]
  },
  {
   "cell_type": "code",
   "execution_count": 12,
   "metadata": {},
   "outputs": [
    {
     "data": {
      "text/plain": [
       "'4,500'"
      ]
     },
     "execution_count": 12,
     "metadata": {},
     "output_type": "execute_result"
    }
   ],
   "source": [
    "price[0].text"
   ]
  },
  {
   "cell_type": "markdown",
   "metadata": {},
   "source": [
    "# 예외처리\n",
    "* 오류가 나기전까지 코드를 시도\n",
    "* 오류가 나면 오류코드가 아니고 다른 로직을 실행\n",
    "* try,except"
   ]
  },
  {
   "cell_type": "code",
   "execution_count": 16,
   "metadata": {},
   "outputs": [
    {
     "name": "stderr",
     "output_type": "stream",
     "text": [
      "<ipython-input-16-326d574a6201>:5: DeprecationWarning: find_element_by_css_selector is deprecated. Please use find_element(by=By.CSS_SELECTOR, value=css_selector) instead\n",
      "  btnMore=driver.find_element_by_css_selector('a.c_05')\n"
     ]
    },
    {
     "name": "stdout",
     "output_type": "stream",
     "text": [
      "no more page\n"
     ]
    }
   ],
   "source": [
    "# 더보기 코드\n",
    "try:\n",
    "    # 에러가 나기 전까지 시도할 로직\n",
    "    for i in range(10):\n",
    "        btnMore=driver.find_element_by_css_selector('a.c_05')\n",
    "        btnMore.click()\n",
    "        # 코드를 멈추는 시간\n",
    "        time.sleep(2)\n",
    "except:\n",
    "    # 에러가 났을때 실행할 로직\n",
    "    print('no more page')"
   ]
  },
  {
   "cell_type": "code",
   "execution_count": 17,
   "metadata": {},
   "outputs": [
    {
     "name": "stderr",
     "output_type": "stream",
     "text": [
      "<ipython-input-17-9ad77ce95342>:1: DeprecationWarning: find_elements_by_css_selector is deprecated. Please use find_elements(by=By.CSS_SELECTOR, value=css_selector) instead\n",
      "  title=driver.find_elements_by_css_selector('h4.h.fz_03')\n",
      "<ipython-input-17-9ad77ce95342>:2: DeprecationWarning: find_elements_by_css_selector is deprecated. Please use find_elements(by=By.CSS_SELECTOR, value=css_selector) instead\n",
      "  price=driver.find_elements_by_css_selector('div.item-price>strong')\n"
     ]
    }
   ],
   "source": [
    "title=driver.find_elements_by_css_selector('h4.h.fz_03')\n",
    "price=driver.find_elements_by_css_selector('div.item-price>strong')"
   ]
  },
  {
   "cell_type": "code",
   "execution_count": 18,
   "metadata": {},
   "outputs": [
    {
     "name": "stdout",
     "output_type": "stream",
     "text": [
      "100\n",
      "100\n"
     ]
    }
   ],
   "source": [
    "print(len(title))\n",
    "print(len(price))"
   ]
  },
  {
   "cell_type": "code",
   "execution_count": 19,
   "metadata": {},
   "outputs": [],
   "source": [
    "# Dataframe 만들기\n",
    "titleList=[]\n",
    "priceList=[]\n",
    "\n",
    "for i in range(len(title)):\n",
    "    titleList.append(title[i].text)\n",
    "    priceList.append(price[i].text)\n"
   ]
  },
  {
   "cell_type": "code",
   "execution_count": 21,
   "metadata": {},
   "outputs": [],
   "source": [
    "data={'Menu_title':titleList,'Price':priceList}"
   ]
  },
  {
   "cell_type": "code",
   "execution_count": 22,
   "metadata": {},
   "outputs": [
    {
     "data": {
      "text/html": [
       "<div>\n",
       "<style scoped>\n",
       "    .dataframe tbody tr th:only-of-type {\n",
       "        vertical-align: middle;\n",
       "    }\n",
       "\n",
       "    .dataframe tbody tr th {\n",
       "        vertical-align: top;\n",
       "    }\n",
       "\n",
       "    .dataframe thead th {\n",
       "        text-align: right;\n",
       "    }\n",
       "</style>\n",
       "<table border=\"1\" class=\"dataframe\">\n",
       "  <thead>\n",
       "    <tr style=\"text-align: right;\">\n",
       "      <th></th>\n",
       "      <th>Menu_title</th>\n",
       "      <th>Price</th>\n",
       "    </tr>\n",
       "  </thead>\n",
       "  <tbody>\n",
       "    <tr>\n",
       "      <th>0</th>\n",
       "      <td>핫 치킨마요 볶음면</td>\n",
       "      <td>4,500</td>\n",
       "    </tr>\n",
       "    <tr>\n",
       "      <th>1</th>\n",
       "      <td>식물성 제육볶음밥</td>\n",
       "      <td>4,900</td>\n",
       "    </tr>\n",
       "    <tr>\n",
       "      <th>2</th>\n",
       "      <td>식물성 불고기볶음밥</td>\n",
       "      <td>4,900</td>\n",
       "    </tr>\n",
       "    <tr>\n",
       "      <th>3</th>\n",
       "      <td>[수능대박 세트]메가치킨마요 떡허니합격 세트</td>\n",
       "      <td>8,200</td>\n",
       "    </tr>\n",
       "    <tr>\n",
       "      <th>4</th>\n",
       "      <td>[수능대박 세트]왕치킨마요 떡허니합격 세트</td>\n",
       "      <td>7,200</td>\n",
       "    </tr>\n",
       "    <tr>\n",
       "      <th>...</th>\n",
       "      <td>...</td>\n",
       "      <td>...</td>\n",
       "    </tr>\n",
       "    <tr>\n",
       "      <th>95</th>\n",
       "      <td>김치</td>\n",
       "      <td>400</td>\n",
       "    </tr>\n",
       "    <tr>\n",
       "      <th>96</th>\n",
       "      <td>무말랭이 무침</td>\n",
       "      <td>500</td>\n",
       "    </tr>\n",
       "    <tr>\n",
       "      <th>97</th>\n",
       "      <td>한솥밥</td>\n",
       "      <td>1,000</td>\n",
       "    </tr>\n",
       "    <tr>\n",
       "      <th>98</th>\n",
       "      <td>현미밥</td>\n",
       "      <td>1,700</td>\n",
       "    </tr>\n",
       "    <tr>\n",
       "      <th>99</th>\n",
       "      <td>리얼꿀 미니호떡</td>\n",
       "      <td>2,200</td>\n",
       "    </tr>\n",
       "  </tbody>\n",
       "</table>\n",
       "<p>100 rows × 2 columns</p>\n",
       "</div>"
      ],
      "text/plain": [
       "                  Menu_title  Price\n",
       "0                 핫 치킨마요 볶음면  4,500\n",
       "1                  식물성 제육볶음밥  4,900\n",
       "2                 식물성 불고기볶음밥  4,900\n",
       "3   [수능대박 세트]메가치킨마요 떡허니합격 세트  8,200\n",
       "4    [수능대박 세트]왕치킨마요 떡허니합격 세트  7,200\n",
       "..                       ...    ...\n",
       "95                        김치    400\n",
       "96                   무말랭이 무침    500\n",
       "97                       한솥밥  1,000\n",
       "98                       현미밥  1,700\n",
       "99                  리얼꿀 미니호떡  2,200\n",
       "\n",
       "[100 rows x 2 columns]"
      ]
     },
     "execution_count": 22,
     "metadata": {},
     "output_type": "execute_result"
    }
   ],
   "source": [
    "pd.DataFrame(data)"
   ]
  },
  {
   "cell_type": "code",
   "execution_count": 23,
   "metadata": {},
   "outputs": [],
   "source": [
    "food=pd.DataFrame(data)"
   ]
  },
  {
   "cell_type": "code",
   "execution_count": 24,
   "metadata": {},
   "outputs": [],
   "source": [
    "food.to_csv('food.csv',encoding='utf-8-sig')"
   ]
  },
  {
   "cell_type": "code",
   "execution_count": 25,
   "metadata": {},
   "outputs": [],
   "source": [
    "driver.quit()"
   ]
  }
 ],
 "metadata": {
  "kernelspec": {
   "display_name": "Python 3",
   "language": "python",
   "name": "python3"
  },
  "language_info": {
   "codemirror_mode": {
    "name": "ipython",
    "version": 3
   },
   "file_extension": ".py",
   "mimetype": "text/x-python",
   "name": "python",
   "nbconvert_exporter": "python",
   "pygments_lexer": "ipython3",
   "version": "3.8.5"
  }
 },
 "nbformat": 4,
 "nbformat_minor": 4
}
