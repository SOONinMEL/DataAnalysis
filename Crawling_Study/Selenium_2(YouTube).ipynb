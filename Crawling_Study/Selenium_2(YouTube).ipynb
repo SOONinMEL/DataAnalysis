{
 "cells": [
  {
   "cell_type": "code",
   "execution_count": 1,
   "metadata": {},
   "outputs": [],
   "source": [
    "from selenium import webdriver as wb\n",
    "from selenium.webdriver.common.keys import Keys\n",
    "import time"
   ]
  },
  {
   "cell_type": "code",
   "execution_count": 2,
   "metadata": {},
   "outputs": [
    {
     "name": "stderr",
     "output_type": "stream",
     "text": [
      "<ipython-input-2-d1dca5c82639>:8: DeprecationWarning: find_element_by_css_selector is deprecated. Please use find_element(by=By.CSS_SELECTOR, value=css_selector) instead\n",
      "  body=driver.find_element_by_css_selector('body')\n",
      "<ipython-input-2-d1dca5c82639>:14: DeprecationWarning: find_elements_by_id is deprecated. Please use find_elements(by=By.ID, value=id_) instead\n",
      "  title=driver.find_elements_by_id('video-title')\n",
      "<ipython-input-2-d1dca5c82639>:16: DeprecationWarning: find_elements_by_css_selector is deprecated. Please use find_elements(by=By.CSS_SELECTOR, value=css_selector) instead\n",
      "  view=driver.find_elements_by_css_selector('#metadata-line > span:nth-child(3)')\n"
     ]
    }
   ],
   "source": [
    "driver=wb.Chrome()\n",
    "time.sleep(0.5)\n",
    "driver.get('https://www.youtube.com/@redvelvet/videos')\n",
    "time.sleep(1)\n",
    "# 스크롤을 페이지 최하단으로 이동\n",
    "# 키보드에 있는 end키 이용\n",
    "# Body tag알아오기\n",
    "body=driver.find_element_by_css_selector('body')\n",
    "for i in range(10):\n",
    "    body.send_keys(Keys.END)\n",
    "    time.sleep(1)\n",
    "    \n",
    "# 영상의 제목 수집    \n",
    "title=driver.find_elements_by_id('video-title')\n",
    "# 가상 클래스 선택, 조회수 수집\n",
    "view=driver.find_elements_by_css_selector('#metadata-line > span:nth-child(3)')\n",
    "\n",
    "titleList=[]\n",
    "viewList=[]\n",
    "for i in range(len(title)):\n",
    "    titleList.append(title[i].text)\n",
    "    viewList.append(view[i].text)\n",
    "driver.quit()"
   ]
  },
  {
   "cell_type": "code",
   "execution_count": 3,
   "metadata": {},
   "outputs": [
    {
     "name": "stdout",
     "output_type": "stream",
     "text": [
      "262\n",
      "262\n"
     ]
    }
   ],
   "source": [
    "print(len(titleList))\n",
    "print(len(viewList))"
   ]
  },
  {
   "cell_type": "code",
   "execution_count": 4,
   "metadata": {},
   "outputs": [
    {
     "name": "stdout",
     "output_type": "stream",
     "text": [
      "['[RV Days] ‘RED CIRCLE’ Behind with IRENE&SEULGI', \"Red Velvet 레드벨벳 'Chill Kill' Hint Fiction Soundtrack\", '💚앵콜 외쳐주신다면 좋아요 😆🎤 | 2023 HAPPY JOY-DAY', \"Red Velvet 레드벨벳 'Chill Kill' Mood Sampler #WENDY\", \"Red Velvet 레드벨벳 'Chill Kill' Mood Sampler #YERI\", \"Red Velvet 레드벨벳 'Chill Kill' Mood Sampler #JOY\", \"Red Velvet 레드벨벳 'Chill Kill' Mood Sampler #IRENE\", \"Red Velvet 레드벨벳 'Chill Kill' Mood Sampler #SEULGI\", \"[RV Days] IRENE's '2aN' Shooting Behind\", 'KAMP FEST CDMX받고한식받고커피받고대성당 받고…더보기 | 슬기의 겸사겸사 in Mexico🌮🇲🇽', \"IRENE's Sweet Simple Seriesㅣ#Berlin\", \"JOY 조이 'Day By Day' Live Video\", '‘Happy JOY Day’ Preview | Coming Soon💚', \"[RV Days] SEULGI's '2023 K GLOBAL HEART DREAM AWARDS' Behind\", \"IRENE's Sweet Simple Seriesㅣ#Paris\", 'Hola! PRIMAVERA👋 We are Red Velvet! | PRIMAVERA SOUND 2023 BARCELONA', '[REPLAY] Ladies Ni9ht : Red Velvet 9th Anniversary', 'Today our dreams come true⭐️ | R to V Europe Tour Behind', '[RV Days] Record (t)our Video #2', '[RV Days] YERI’s ‘COSMOPOLITAN’ Shooting Behind', '[RV Days] Record (t)our Video #1', 'Red Velvet 4th Concert : R to V Production Diary ‘READY TO VENTURE’ #3', 'Red Velvet 4th Concert : R to V Production Diary ‘READY TO VENTURE’ #2', 'Red Velvet 4th Concert : R to V Production Diary ‘READY TO VENTURE’ #1', '일하러간김에겸사겸사J처럼살아보려고국밥먹고커피마시고….더보기 | 슬기의겸사겸사 in 부산🌊', '🐰여전히 먼저 손 흔들어줘서 고마워💕 | 2023 HAPPY IRENE-DAY', '‘Red Velvet 4th Concert : R to V’ Recap Video', '데뷔부터 지금까지 쭉!! 고마워💜 | 2023 HAPPY YERI-DAY', \"Arrivederci! JOY💚 I TOD’S 2023 F/W SHOW, Harper's BAZAAR\", 'oh! Pottery Day with IRENE 💗', '고맙고 사랑해☺️💙 | 2023 HAPPY WENDY-DAY', '🐻어떠셨나요? 재밌으셨나요?💛 | 2023 HAPPY SEULGI-DAY', '[Preview of ‘R to V’] Ep. In & Out I Red Velvet 4th Concert : R to V', '[Preview of ‘R to V’] Ep. Ice Cream Cake I Red Velvet 4th Concert : R to V', 'YERI 예리 ‘My Sweetie’ Cover Video', 'Dear My ReVeluv💙 I WENDY’s 🎂Birthday Cafe☕', '[RV Days] 💙단발일 때랑 장발일 때랑 다른 사람이 되어버려💙 | 싱글즈 화보 촬영 비하인드', \"🐻SEULGI's Winter Trip In Sapporo⛄️ #2\", \"🐻SEULGI's Winter Trip In Sapporo⛄️ #1\", \"SEULGI 슬기 'Anywhere But Home' Special Film\", \"웬디 (WENDY) X 멜로망스 (MeloMance) '안부 (Miracle)' Live Video Behind\", \"Red Velvet 레드벨벳 'Feel My Rhythm' Stage Video\", \"Red Velvet 레드벨벳 'Time To Love' @'Birthday' PARTY in KWANGYA\", \"Red Velvet 레드벨벳 'Celebrate' @'Birthday' PARTY in KWANGYA\", \"Red Velvet 'Birthday' PARTY in KWANGYA I 러비들 대댕큐 💗💛💙💚💜\", 'Red Velvet 레드벨벳 ‘Birthday’ MV Behind I RV Collection', '리브야‼️ 생일 축하해 🎂ㅣ Welcome to ReVe’s Birthday Party🎉', \"Red Velvet 레드벨벳 'Birthday' Dance Practice Behind I RV Collection\", \"Red Velvet 레드벨벳 'Birthday' Recording Behind | RV Collection\", 'Red Velvet 레드벨벳 ‘Birthday’ Performance Video Behind I RV Collection', \"Red Velvet 레드벨벳 'Birthday' Performance Video\", \"Red Velvet 레드벨벳 'The ReVe Festival 2022 - Birthday' Jacket Behind I RV Collection\", \"[REPLAY] Red Velvet 레드벨벳 'The ReVe Festival 2022 - Birthday' Countdown Live\", \"Red Velvet 레드벨벳 'Birthday' MV Reaction l RV Collection\", '[내 말이 다 맞지?!] 🎶빰빰빠라바라🎵🍗닭다리 내꺼야‼️ | 아이린 vs 조이 vs 예리', '[내 말이 다 맞지?!] 아 이런 거 너무 쉽잖아!💢 왜 나 이런 것만 뽑아!😤 | 슬기 vs 웬디', 'SEULGI’s NEW YORK VLOG #2 | Peter Do SS23 Runway Show, Brooklyn Bridge, Shopping Haul', \"Red Velvet 레드벨벳 'The ReVe Festival 2022 - Birthday' Mood Sampler\", \"JOY in Milano VLOG I TOD'S 2023 S/S SHOW\", 'SEULGI’s NEW YORK VLOG #1 | New York Times Square, SoHo, SUMMIT One Vanderbilt', \"💖신나서 무대를 뒤집어버렸다!✨ SEULGI 슬기 '28 Reasons' 음악방송 비하인드 I 28 Reasons\", \"SEULGI 슬기 'Bad Boy, Sad Girl (Feat. BE’O)' Recording & Special Video Behind I 28 Reasons\", \"SEULGI 슬기 '28 Reasons' Dance Practice Behind I 28 Reasons\", \"SEULGI 슬기 '28 Reasons' Performance Video Behind I 28 Reasons\", \"SEULGI 슬기 '28 Reasons' Recording Behind I 28 Reasons\", \"SEULGI 슬기 'Dead Man Runnin'' Recording Behind I 28 Reasons\", \"SEULGI 슬기 '28 Reasons' MV Behind I 28 Reasons\", \"SEULGI 슬기 '28 Reasons' Performance Video\", \"SEULGI 슬기 'Bad Boy, Sad Girl (Feat. BE'O)' Special Video\", \"SEULGI 슬기 The 1st Mini Album '28 Reasons' Jacket Behind I 28 Reasons\", \"[REPLAY] SEULGI 슬기 '28 Reasons' Countdown Live\", \"SEULGI 슬기 '28 Reasons' MV Reaction I Red Velvet\", 'SEULGI 슬기 Official Album Trailer Behind I 28 Reasons', '✨예쁨을 왈칵 쏟아버렸네💖 ㅣ 드라마 〈어쩌다 전원일기〉 촬영 비하인드', '[RV Days] 여기 유럽은 빵이 맛있으니까!🧡 | Vogue 화보 촬영 비하인드', '‘2+8 Reasons’ of SEULGI I [28 Reasons] Art Work Drawing', \"SEULGI 슬기 '28 Reasons' Mood Sampler\", '안녕하세요💚 안자영입니다😉ㅣ어쩌다 전원일기 포스터 촬영 & 제작발표회 비하인드', 'SEULGI | 28 Reasons (Official Album Trailer)', '✨수영아💚 생일 축하해‼️ 🎂 온통 축하로 가득 찬 JOY’s B-DAY VLOG', '🚦운전면허는 처음이라 🚸 (하편 - 기능시험🚗) EP. 웬디&예리 l 처음인데 뭐하지?', '🚦운전면허는 처음이라 🚸 (상편 - 학과시험📝) EP. 웬디&예리 l 처음인데 뭐하지?', '[RV Days] 📣애니멀 사운드 발사아아ㅏㅏㅏ😆 | 고려대 입실렌티 & 드림콘서트 비하인드', \"Red Velvet 레드벨벳 'Feel My Rhythm (Orchestra Ver.)' MV Reaction\", '[RV Days] 오늘은 레드벨벳의 자카르타 가는 날입니다!✈️ | Allo Bank Festival 2022 비하인드', 'Red Velvet SEULGI ReactionㅣONEW ‘DICE’🎲 MV', '[RV Days] YERI’s ‘marie claire’ PhotoShoot Behind', \"Red Velvet レッドベルベット 'Color of Love' Lyric Video\", \"Red Velvet 레드벨벳 'Feel My Rhythm' Dance Practice BehindㅣRV Collection\", 'ReVe를 도와줘💡🤖 | 얼른 다시 신나는 페스티벌을 열어보자고요! ✨🍓🌈', \"Red Velvet 레드벨벳 'Feel My Rhythm' Dance Practice\", \"Red Velvet 레드벨벳 'Feel My Rhythm' Performance Video Behind I RV Collection\", 'IRENE’s Birthday Meal Kit I 이미 맛있어❗️ 벌써 맛있는데⁉️', \"Red Velvet 레드벨벳 'Feel My Rhythm' Recording Behind | RV Collection\", \"Red Velvet レッドベルベット 'WILDSIDE' MV Teaser #JOY\", \"Red Velvet レッドベルベット 'WILDSIDE' MV Teaser #WENDY\", \"Red Velvet レッドベルベット 'WILDSIDE' MV Teaser #IRENE\", \"Red Velvet レッドベルベット 'WILDSIDE' MV Teaser #YERI\", \"Red Velvet レッドベルベット 'WILDSIDE' MV Teaser #SEULGI\", \"Red Velvet 레드벨벳 'Feel My Rhythm' MV BehindㅣRV Collection\", \"Red Velvet 레드벨벳 'Feel My Rhythm' MV Reaction l RV Collection\", '[REPLAY] Red Velvet ‘The ReVe Festival 2022 - Feel My Rhythm’ Countdown Live', \"Red Velvet 레드벨벳 'Feel My Rhythm' Performance Video\", \"Red Velvet 레드벨벳 'The ReVe Festival 2022 - Feel My Rhythm' Jacket Behind I RV Collection\", '[RV Days] 밝게 웃으면서 찍을 수 있어서 좋았어요 😆 | Cosmopolitan 화보 촬영 비하인드', '이번 생일은 나를 위한 휴식 타임 with 마이 베스트 프렌드👒💜', \"'Light Me Up' (La Rouge Ver.) Live VideoㅣHappy WENDY Day💙\", '[RV Days] 제가 좋아하는 언니의 모습이 있어요 | 서가대+가온차트 시상식 비하인드', '아주아주 완벽한 슬기의 Vlog I Hi 👋 SSEULGI’s BIRTHDAY 💛', '[RV Days] 새로운 컨셉이야 아주 ✨ | allure 화보 촬영 비하인드', '☕️알바는 처음이라🐜 EP. 슬기&웬디 l 처음인데 뭐하지?', '2022 SM ARTIST SEASON’S GREETINGS #RedVelvet', '🏕혼자서 차박은 처음이라 🚙 EP. 아이린 l 처음인데 뭐하지?', '2022 SM ARTIST SEASON’S GREETINGS Teaser #RedVelvet', \"Red Velvet 레드벨벳 'Queendom' Compilation\", \"Red Velvet 레드벨벳 '다시, 여름 (Hello, Sunset)' Special VideoㅣRV Collection\", \"Red Velvet 레드벨벳 'Queendom' Recording BehindㅣRV Collection\", \"Beyond LIVE - Red Velvet ONLINE FANMEETING 'inteRView Vol.7 : Queendom' Sketch Film\", '🎂Happy Birthday To You🎂 Live Video🎤ㅣHappy JOY Day🐥💚', \"Red Velvet 레드벨벳 'Queendom' Jacket Behind I RV Collection\", \"Red Velvet 레드벨벳 'Queens Archive' Special BehindㅣRV Collection\", '✨🏰Queendom Restaurant🍽✨ EP. 02ㅣTo. 최강 RV팀💖', \"Red Velvet 레드벨벳 'Queendom' MV BehindㅣRV Collection\", '✨🏰Queendom Restaurant🍽✨ EP. 01ㅣTo. 최강 RV팀💖', \"Red Velvet 레드벨벳 'Pose' Performance Stage @inteRView vol.7 : Queendom\", \"Red Velvet 레드벨벳 'Queendom' Mood Sampler\", \"Queens Mystic General Store - 'Closed' #RedVelvet\", \"Queens Archive - Red Velvet 레드벨벳 'So Good' #SEULGI\", \"Queens Archive - Red Velvet 레드벨벳 'Bad Dracula' #JOY\", \"Queens Archive - Red Velvet 레드벨벳 'Perfect 10' #IRENE\", \"Queens Archive - Red Velvet 레드벨벳 'Talk To Me' #YERI\", \"Queens Archive - Red Velvet 레드벨벳 'I Just' #WENDY\", \"Queens Archive - Red Velvet 레드벨벳 'Somethin Kinda Crazy'\", \"JOY 조이 '안녕 (Hello)' Dance Practice\", '마지막 브이로그🎥 이제 안녕👋 Hello에서 Goodbye야😢 안무 연습 + 마지막 음악방송 / 안녕! 조이💚 (Hello! JOY) #4', '세 번째 브이로그🍉 6가지 컨셉의 자켓 촬영📸 DAY 1 + DAY 2 / 안녕! 조이💚 (Hello! JOY) #3', \"JOY 조이 '좋을텐데 (If Only) (Feat. 폴킴)' Live Video\", '두 번째 브이로그☀️ MV 촬영 in Jeju🏝 + 트랙 비디오 촬영🎥 + 보고 싶은 나디와 벤지, 조리퐁😢 / 안녕! 조이💚 (Hello! JOY) #2', \"[REPLAY] 안녕! 난 너의 JOY야😊 (Hello! I'm Your JOY😊)\", 'JOY 조이 ‘안녕 (Hello)’ MV Reaction with WENDY', '둥둥🐥 너무 떨리는 첫 브이로그 스타트! 앨범 녹음🤓 + 연습 또 연습🎤 + 막간 방 소개🌿 / 안녕! 조이💚 (Hello! JOY) #1', \"JOY 조이 'Hello' Prologue #2 그럴때마다 (Be There For You)\", \"JOY 조이 'Hello' Prologue #1 Day By Day\", \"JOY 조이 'Je T’aime' Live Video\", '안녕! 조이💚 (Hello! JOY) Prologue', \"Red Velvet SEULGI ReactionㅣTAEMIN ‘Advice' 🎹 MV\", \"JOY 조이 '안녕 (Hello)' Mood Sampler #6\", \"JOY 조이 '안녕 (Hello)' Mood Sampler #5\", \"JOY 조이 '안녕 (Hello)' Mood Sampler #4\", \"JOY 조이 '안녕 (Hello)' Mood Sampler #3\", \"JOY 조이 '안녕 (Hello)' Mood Sampler #2\", \"JOY 조이 '안녕 (Hello)' Mood Sampler #1\", 'WENDY 웬디 ’When This Rain Stops’ & ‘Like Water’ Recording Behind', 'WENDY 웬디 ‘Like Water’ MV Behind', 'WENDY & SEULGI ‘Best Friend’ Recording Behind', \"WENDY 웬디 'When This Rain Stops' Live Video\", '🎩웬디웡카와 포카공장🏭💙 ㅣ WENDY WONKA and Card Factory', \"WENDY 웬디 'Like Water' MV Reaction with JOY\", '손로몬쓰 초이스👩🏼\\u200d⚖️⚖️ㅣ Shonlomon’s Choice!', 'A Present for ReVeluv🎁💗｜IRENE’S RECORD', \"WENDY 웬디 'Like Water' Mood Sampler #2\", \"WENDY 웬디 'Like Water' Mood Sampler #1\", '💜 5 days with YERI 💜 | YERI’s Birthday week Vlog', 'Today is...WENDY’s Birthday!🥳💙 | 오늘은 웬디...', '잔치국수 드시고 오래 사세요🙇🏻\\u200d♀️💛 | 청담 슬기 제면소', \"2021 Red Velvet SEASON'S GREETINGS #RedVelvet\", '조이랑 문치랑🎵 | 조이 (JOY) with 박문치 - 바라봐줘요 (죠지) Cover Behind', 'Cover | 조이 (JOY) with 박문치 - 바라봐줘요 (죠지)', '2021 Red Velvet SEASON’S GREETINGS Teaser', \"[SEULGI] 2020 'ReVeluv'-ACE 회원 OFFICIAL KIT UN-BOXING\", 'SEULGI Solo｜\"Uncover (Sung by SEULGI)\" Choreography Video', 'IRENE Solo｜\"IRENE\" Choreography Video', '아이린&슬기 Vlog: Monster Ver.', \"Red Velvet - IRENE & SEULGI '놀이 (Naughty)' Choreography Video\", 'Behind the Episodes: 본 적 없던 👀 Naughty girls IRENE & SEULGI', 'Red Velvet - IRENE & SEULGI Episode 3 \"Uncover (Sung by SEULGI)\"', 'Red Velvet - IRENE & SEULGI Episode 2 \"IRENE\"', 'Red Velvet - IRENE & SEULGI Episode 1 \"놀이 (Naughty)\"', '[IRENE & SEULGI BEHIND THE SCENES] – EPISODE IRENE', '[IRENE & SEULGI BEHIND THE SCENES] – EPISODE SEULGI', \"Red Velvet - IRENE & SEULGI 'Monster' 반말 인터뷰\", \"Red Velvet - IRENE & SEULGI '놀이 (Naughty)' Episode Teaser\", 'Red Velvet - IRENE & SEULGI THE STAGE Behind The Scenes', \"[ONE-TAKE] Red Velvet - IRENE & SEULGI 'Monster' (Top Note Ver.) @IRENE & SEULGI THE STAGE\", \"[ONE-TAKE] Red Velvet - IRENE & SEULGI 'Monster' (Middle Note Ver.) @IRENE & SEULGI THE STAGE\", \"[SEULGI Focus] Red Velvet - IRENE & SEULGI 'Monster' (Top Note Ver.) @IRENE & SEULGI THE STAGE\", \"[IRENE Focus] Red Velvet - IRENE & SEULGI 'Monster' (Top Note Ver.) @IRENE & SEULGI THE STAGE\", \"[Eye Contact Cam] Red Velvet - IRENE & SEULGI 'Monster' (Middle Note Ver.) @IRENE & SEULGI THE STAGE\", \"[Eye Contact Cam] Red Velvet - IRENE & SEULGI 'Monster' (Top Note Ver.) @IRENE & SEULGI THE STAGE\", \"😈 Red Velvet - IRENE & SEULGI 'Monster' 🗣 응원법 (Fanchant Guide)\", '레드벨벳 슬기와 함께하는 #SMileGreenChallenge', \"Red Velvet - IRENE & SEULGI 'Monster' (Top Note & Middle Note Ver.) @ IRENE & SEULGI THE STAGE\", \"Red Velvet - IRENE & SEULGI [아슬이 알고 싶다🤔 (Feat. 'Monster' Box😈)] #2\", 'Red Velvet - IRENE & SEULGI ‘Monster’ MV Behind The Scenes', \"Red Velvet - IRENE & SEULGI 'Monster' (Top Note Ver.) @ IRENE & SEULGI THE STAGE\", \"Red Velvet - IRENE & SEULGI 'Monster' (Middle Note Ver.) @ IRENE & SEULGI THE STAGE\", \"Red Velvet - IRENE & SEULGI [아슬이 알고 싶다🧐 (Feat. 'Monster' Box😈)]\", \"Red Velvet - IRENE & SEULGI 'Monster' Official Lyrics Eng\", '그림자 인터뷰 | 슬기와 슬기를 인터뷰 했다 (SEULGI & SEULGI were Interviewed)', 'Red Velvet - IRENE & SEULGI | Mood Sampler #2 Midnight Reflections(EDP)', '그림자 인터뷰 | 아이린과 아이린을 인터뷰 했다 (IRENE & IRENE were Interviewed)', 'Red Velvet - IRENE & SEULGI | Mood Sampler #1 The Rooms(EDT)', 'Red Velvet - IRENE & SEULGI | Two Shadows (Teaser)', 'Red Velvet 레드벨벳 - Remember Forever @ReVe Festival FINALE', 'Red Velvet 레드벨벳 - Psycho @ReVe Festival FINALE', \"Red Velvet 레드벨벳 'Psycho' Performance Video\", \"Red Velvet 레드벨벳 'Psycho' MV Behind The Scenes\", '출발! 패러글라이딩 여행｜Red Velvet in Switzerland', '[중요] 스위스 로켓단 근황 🐹🐻🐥｜Red Velvet in Switzerland', '2020 SM ARTIST SEASON’S GREETINGS DVD Teaser - Red Velvet', '[VISUAL-ASMR] 아이린 IRENE｜Red Velvet in Switzerland', '[VISUAL-ASMR] 예리 YERI｜Red Velvet in Switzerland', '[VISUAL-ASMR] 웬디 WENDY｜Red Velvet in Switzerland', '[VISUAL-ASMR] 슬기 SEULGI｜Red Velvet in Switzerland', '[VISUAL-ASMR] 조이 JOY｜Red Velvet in Switzerland', \"Red Velvet 레드벨벳 '음파음파 (Umpah Umpah)' Dance Practice\", 'Red Velvet \"ROAD TRIP: RVF DAY 2 D-7\"', '호치민/자카르타/발리에서 생긴 일🍹 #TBT｜Red Velvet.Vlog', \"Red Velvet 레드벨벳 'Milkshake' Special Video @'inteRView vol.5' with ReVeluv\", \"Red Velvet 레드벨벳 '짐살라빔 (Zimzalabim)' Vertical Video\", '[JOY Focused Cam] Red Velvet 레드벨벳 ‘짐살라빔 (Zimzalabim)’ @ ZIP.CODE : SEOUL', '[WENDY Focused Cam] Red Velvet 레드벨벳 ‘짐살라빔 (Zimzalabim)’ @ ZIP.CODE : SEOUL', '[SEULGI Focused Cam] Red Velvet 레드벨벳 ‘짐살라빔 (Zimzalabim)’ @ ZIP.CODE : SEOUL', '[IRENE Focused Cam] Red Velvet 레드벨벳 ‘짐살라빔 (Zimzalabim)’ @ ZIP.CODE : SEOUL', '[YERI Focused Cam] Red Velvet 레드벨벳 ‘짐살라빔 (Zimzalabim)’ @ ZIP.CODE : SEOUL', '[열일 시리즈] 어머 어머 어머 열일하는 레드벨벳을 봐👀', '[열일 시리즈] 어머 어머 어머 열일하는 예리를 봐👀', '[열일 시리즈] 어머 어머 어머 열일하는 조이를 봐👀', '[열일 시리즈] 어머 어머 어머 열일하는 웬디를 봐👀', '[열일 시리즈] 어머 어머 어머 열일하는 슬기를 봐👀', '[열일 시리즈] 어머 어머 어머 열일하는 아이린을 봐👀', '❤Red Velvet Zimzalabim Relay Interview❤', '텐션 만렙 찍은 아이린의 흥파티 IRENE with Highest Tension Ever | 레드벨벳 아이컨택캠📹 시즌3', '웬디의 스윗학개론 WENDY’s Introduction to Sweetness♥ | 레드벨벳 아이컨택캠📹 시즌3', 'The 슬기로운 생활 미국편 The more SEULGIful Lifestyle in USA | 레드벨벳 아이컨택캠📹 시즌3', 'Red Velvet \"Special Invitation: RVF D-10\"', '5년차 레드벨벳 예리의 걸어서 인싸 속으로 Reborn YERI in North America | 레드벨벳 아이컨택캠📹 시즌3', \"슈스 잔든영 조이 선생의 미국 로그 JOY's American Vlog💚 | 레드벨벳 아이컨택캠📹 시즌3\", '🔥컴백 예열🔥 레드벨벳 컴백 기념 북미투어 총정리판.zip | 레드벨벳 아이컨택캠📹 시즌3', \"레드벨벳 아이컨택캠 (EYE CONTACT🎥) S2 EP5. '아이린의 소확행💕'\", \"레드벨벳 아이컨택캠 (EYE CONTACT🎥) S2 EP4. '예리의 취향'\", \"레드벨벳 아이컨택캠 (EYE CONTACT🎥) S2 EP3. '슬기로운 생활'\", \"레드벨벳 아이컨택캠 (EYE CONTACT🎥) S2 EP2. '조이 The햇님사랑꾼'\", \"레드벨벳 아이컨택캠 (EYE CONTACT🎥) S2 EP1. '웬디라는 사치...'\", 'Hidden Film 히든필름_Red Velvet 레드벨벳 ‘RBB (Really Bad Boy)’', '2019 SM ARTIST SEASON’S GREETINGS DVD Teaser (Red Velvet)', 'Red Velvet 레드벨벳 아이컨택캠 (EYE CONTACT🎥) EP.4', 'Red Velvet 레드벨벳 ‘Power Up’ 안무 연습 비하인드 영상 (with 카일 하나가미)', 'Red Velvet ‘Power Up’ Dance Practice Behind the Scenes with Kyle Hanagami (English Sub)', '[🍍SEULGI] Red Velvet 레드벨벳 아이컨택캠 (EYE CONTACT🎥) EP.3', '[🍇YERI] Red Velvet 레드벨벳 아이컨택캠 (EYE CONTACT🎥) EP.3', '[🍉IRENE] Red Velvet 레드벨벳 아이컨택캠 (EYE CONTACT🎥) EP.3', '[🥝JOY] Red Velvet 레드벨벳 아이컨택캠 (EYE CONTACT🎥) EP.3', '[🍊WENDY] Red Velvet 레드벨벳 아이컨택캠 (EYE CONTACT🎥) EP.3', 'Red Velvet 레드벨벳 아이컨택캠 (EYE CONTACT🎥) EP.2', 'Red Velvet 레드벨벳 아이컨택캠 (EYE CONTACT🎥) EP.1', \"Red Velvet 레드벨벳 'Power Up' MV Teaser\", \"Red Velvet 레드벨벳 'A Magical Summer Gift' Snippet\", \"Red Velvet 레드벨벳 'Bad Boy' Opening Title\", \"Red Velvet 레드벨벳 'Peek-A-Boo' Teaser Part.1\", \"Red Velvet 레드벨벳 '빨간 맛 (Red Flavor)' MV Teaser\", '2018 SM ARTIST SEASON’S GREETINGS Teaser(Red Velvet)']\n"
     ]
    }
   ],
   "source": [
    "print(titleList)"
   ]
  },
  {
   "cell_type": "code",
   "execution_count": 5,
   "metadata": {},
   "outputs": [
    {
     "name": "stdout",
     "output_type": "stream",
     "text": [
      "['조회수 4.6만회', '조회수 72만회', '조회수 5.1만회', '조회수 40만회', '조회수 28만회', '조회수 31만회', '조회수 48만회', '조회수 36만회', '조회수 10만회', '조회수 11만회', '조회수 55만회', '조회수 25만회', '조회수 4.8만회', '조회수 4.5만회', '조회수 42만회', '조회수 20만회', '조회수 13만회', '조회수 12만회', '조회수 20만회', '조회수 3.4만회', '조회수 22만회', '조회수 13만회', '조회수 19만회', '조회수 31만회', '조회수 19만회', '조회수 24만회', '조회수 20만회', '조회수 5.1만회', '조회수 10만회', '조회수 32만회', '조회수 5.9만회', '조회수 6.8만회', '조회수 14만회', '조회수 14만회', '조회수 24만회', '조회수 13만회', '조회수 6.7만회', '조회수 10만회', '조회수 30만회', '조회수 92만회', '조회수 10만회', '조회수 298만회', '조회수 85만회', '조회수 71만회', '조회수 21만회', '조회수 19만회', '조회수 36만회', '조회수 32만회', '조회수 57만회', '조회수 19만회', '조회수 208만회', '조회수 19만회', '조회수 10만회', '조회수 21만회', '조회수 14만회', '조회수 15만회', '조회수 9.9만회', '조회수 135만회', '조회수 15만회', '조회수 17만회', '조회수 6.7만회', '조회수 5.7만회', '조회수 20만회', '조회수 4.8만회', '조회수 44만회', '조회수 14만회', '조회수 10만회', '조회수 374만회', '조회수 129만회', '조회수 6.9만회', '조회수 3.5만회', '조회수 115만회', '조회수 15만회', '조회수 8.7만회', '조회수 6.7만회', '조회수 26만회', '조회수 102만회', '조회수 7.3만회', '조회수 181만회', '조회수 58만회', '조회수 22만회', '조회수 30만회', '조회수 68만회', '조회수 61만회', '조회수 118만회', '조회수 15만회', '조회수 14만회', '조회수 59만회', '조회수 107만회', '조회수 62만회', '조회수 537만회', '조회수 50만회', '조회수 81만회', '조회수 267만회', '조회수 45만회', '조회수 55만회', '조회수 79만회', '조회수 38만회', '조회수 52만회', '조회수 85만회', '조회수 147만회', '조회수 34만회', '조회수 4044만회', '조회수 78만회', '조회수 17만회', '조회수 52만회', '조회수 85만회', '조회수 44만회', '조회수 95만회', '조회수 19만회', '조회수 86만회', '조회수 20만회', '조회수 214만회', '조회수 28만회', '조회수 58만회', '조회수 87만회', '조회수 583만회', '조회수 21만회', '조회수 91만회', '조회수 38만회', '조회수 31만회', '조회수 57만회', '조회수 54만회', '조회수 122만회', '조회수 1037만회', '조회수 238만회', '조회수 135만회', '조회수 159만회', '조회수 151만회', '조회수 251만회', '조회수 177만회', '조회수 266만회', '조회수 198만회', '조회수 105만회', '조회수 28만회', '조회수 21만회', '조회수 248만회', '조회수 39만회', '조회수 11만회', '조회수 56만회', '조회수 70만회', '조회수 44만회', '조회수 79만회', '조회수 449만회', '조회수 50만회', '조회수 57만회', '조회수 33만회', '조회수 40만회', '조회수 46만회', '조회수 51만회', '조회수 62만회', '조회수 109만회', '조회수 51만회', '조회수 21만회', '조회수 71만회', '조회수 621만회', '조회수 44만회', '조회수 98만회', '조회수 32만회', '조회수 166만회', '조회수 99만회', '조회수 98만회', '조회수 49만회', '조회수 61만회', '조회수 63만회', '조회수 74만회', '조회수 31만회', '조회수 449만회', '조회수 107만회', '조회수 29만회', '조회수 93만회', '조회수 133만회', '조회수 237만회', '조회수 1468만회', '조회수 30만회', '조회수 254만회', '조회수 315만회', '조회수 2091만회', '조회수 29만회', '조회수 24만회', '조회수 15만회', '조회수 190만회', '조회수 24만회', '조회수 555만회', '조회수 220만회', '조회수 19만회', '조회수 26만회', '조회수 25만회', '조회수 46만회', '조회수 146만회', '조회수 7.6만회', '조회수 150만회', '조회수 24만회', '조회수 104만회', '조회수 399만회', '조회수 521만회', '조회수 55만회', '조회수 346만회', '조회수 136만회', '조회수 90만회', '조회수 194만회', '조회수 157만회', '조회수 222만회', '조회수 323만회', '조회수 6945만회', '조회수 1.5억회', '조회수 336만회', '조회수 27만회', '조회수 62만회', '조회수 20만회', '조회수 62만회', '조회수 13만회', '조회수 18만회', '조회수 16만회', '조회수 22만회', '조회수 578만회', '조회수 105만회', '조회수 45만회', '조회수 515만회', '조회수 492만회', '조회수 141만회', '조회수 49만회', '조회수 24만회', '조회수 63만회', '조회수 11만회', '조회수 10만회', '조회수 7.7만회', '조회수 7.6만회', '조회수 10만회', '조회수 11만회', '조회수 17만회', '조회수 11만회', '조회수 253만회', '조회수 91만회', '조회수 107만회', '조회수 106만회', '조회수 78만회', '조회수 69만회', '조회수 120만회', '조회수 551만회', '조회수 88만회', '조회수 216만회', '조회수 185만회', '조회수 70만회', '조회수 14만회', '조회수 15만회', '조회수 45만회', '조회수 177만회', '조회수 53만회', '조회수 14만회', '조회수 13만회', '조회수 22만회', '조회수 10만회', '조회수 14만회', '조회수 68만회', '조회수 68만회', '조회수 56만회', '조회수 10만회', '조회수 26만회', '조회수 13만회', '조회수 78만회', '조회수 12만회']\n"
     ]
    }
   ],
   "source": [
    "print(viewList)"
   ]
  },
  {
   "cell_type": "code",
   "execution_count": 6,
   "metadata": {},
   "outputs": [],
   "source": [
    "import pandas as pd"
   ]
  },
  {
   "cell_type": "code",
   "execution_count": 7,
   "metadata": {},
   "outputs": [],
   "source": [
    "Youtube_data={'Title':titleList,'Views':viewList}\n",
    "YouTube=pd.DataFrame(Youtube_data)"
   ]
  },
  {
   "cell_type": "code",
   "execution_count": 8,
   "metadata": {},
   "outputs": [
    {
     "data": {
      "text/html": [
       "<div>\n",
       "<style scoped>\n",
       "    .dataframe tbody tr th:only-of-type {\n",
       "        vertical-align: middle;\n",
       "    }\n",
       "\n",
       "    .dataframe tbody tr th {\n",
       "        vertical-align: top;\n",
       "    }\n",
       "\n",
       "    .dataframe thead th {\n",
       "        text-align: right;\n",
       "    }\n",
       "</style>\n",
       "<table border=\"1\" class=\"dataframe\">\n",
       "  <thead>\n",
       "    <tr style=\"text-align: right;\">\n",
       "      <th></th>\n",
       "      <th>Title</th>\n",
       "      <th>Views</th>\n",
       "    </tr>\n",
       "  </thead>\n",
       "  <tbody>\n",
       "    <tr>\n",
       "      <th>0</th>\n",
       "      <td>[RV Days] ‘RED CIRCLE’ Behind with IRENE&amp;SEULGI</td>\n",
       "      <td>조회수 4.6만회</td>\n",
       "    </tr>\n",
       "    <tr>\n",
       "      <th>1</th>\n",
       "      <td>Red Velvet 레드벨벳 'Chill Kill' Hint Fiction Soun...</td>\n",
       "      <td>조회수 72만회</td>\n",
       "    </tr>\n",
       "    <tr>\n",
       "      <th>2</th>\n",
       "      <td>💚앵콜 외쳐주신다면 좋아요 😆🎤 | 2023 HAPPY JOY-DAY</td>\n",
       "      <td>조회수 5.1만회</td>\n",
       "    </tr>\n",
       "    <tr>\n",
       "      <th>3</th>\n",
       "      <td>Red Velvet 레드벨벳 'Chill Kill' Mood Sampler #WENDY</td>\n",
       "      <td>조회수 40만회</td>\n",
       "    </tr>\n",
       "    <tr>\n",
       "      <th>4</th>\n",
       "      <td>Red Velvet 레드벨벳 'Chill Kill' Mood Sampler #YERI</td>\n",
       "      <td>조회수 28만회</td>\n",
       "    </tr>\n",
       "    <tr>\n",
       "      <th>...</th>\n",
       "      <td>...</td>\n",
       "      <td>...</td>\n",
       "    </tr>\n",
       "    <tr>\n",
       "      <th>257</th>\n",
       "      <td>Red Velvet 레드벨벳 'A Magical Summer Gift' Snippet</td>\n",
       "      <td>조회수 10만회</td>\n",
       "    </tr>\n",
       "    <tr>\n",
       "      <th>258</th>\n",
       "      <td>Red Velvet 레드벨벳 'Bad Boy' Opening Title</td>\n",
       "      <td>조회수 26만회</td>\n",
       "    </tr>\n",
       "    <tr>\n",
       "      <th>259</th>\n",
       "      <td>Red Velvet 레드벨벳 'Peek-A-Boo' Teaser Part.1</td>\n",
       "      <td>조회수 13만회</td>\n",
       "    </tr>\n",
       "    <tr>\n",
       "      <th>260</th>\n",
       "      <td>Red Velvet 레드벨벳 '빨간 맛 (Red Flavor)' MV Teaser</td>\n",
       "      <td>조회수 78만회</td>\n",
       "    </tr>\n",
       "    <tr>\n",
       "      <th>261</th>\n",
       "      <td>2018 SM ARTIST SEASON’S GREETINGS Teaser(Red V...</td>\n",
       "      <td>조회수 12만회</td>\n",
       "    </tr>\n",
       "  </tbody>\n",
       "</table>\n",
       "<p>262 rows × 2 columns</p>\n",
       "</div>"
      ],
      "text/plain": [
       "                                                 Title      Views\n",
       "0      [RV Days] ‘RED CIRCLE’ Behind with IRENE&SEULGI  조회수 4.6만회\n",
       "1    Red Velvet 레드벨벳 'Chill Kill' Hint Fiction Soun...   조회수 72만회\n",
       "2               💚앵콜 외쳐주신다면 좋아요 😆🎤 | 2023 HAPPY JOY-DAY  조회수 5.1만회\n",
       "3     Red Velvet 레드벨벳 'Chill Kill' Mood Sampler #WENDY   조회수 40만회\n",
       "4      Red Velvet 레드벨벳 'Chill Kill' Mood Sampler #YERI   조회수 28만회\n",
       "..                                                 ...        ...\n",
       "257    Red Velvet 레드벨벳 'A Magical Summer Gift' Snippet   조회수 10만회\n",
       "258            Red Velvet 레드벨벳 'Bad Boy' Opening Title   조회수 26만회\n",
       "259         Red Velvet 레드벨벳 'Peek-A-Boo' Teaser Part.1   조회수 13만회\n",
       "260      Red Velvet 레드벨벳 '빨간 맛 (Red Flavor)' MV Teaser   조회수 78만회\n",
       "261  2018 SM ARTIST SEASON’S GREETINGS Teaser(Red V...   조회수 12만회\n",
       "\n",
       "[262 rows x 2 columns]"
      ]
     },
     "execution_count": 8,
     "metadata": {},
     "output_type": "execute_result"
    }
   ],
   "source": [
    "YouTube"
   ]
  },
  {
   "cell_type": "code",
   "execution_count": 10,
   "metadata": {},
   "outputs": [],
   "source": [
    "YouTube.to_csv('YouTube.csv',encoding='utf-8-sig')"
   ]
  },
  {
   "cell_type": "code",
   "execution_count": null,
   "metadata": {},
   "outputs": [],
   "source": []
  }
 ],
 "metadata": {
  "kernelspec": {
   "display_name": "Python 3",
   "language": "python",
   "name": "python3"
  },
  "language_info": {
   "codemirror_mode": {
    "name": "ipython",
    "version": 3
   },
   "file_extension": ".py",
   "mimetype": "text/x-python",
   "name": "python",
   "nbconvert_exporter": "python",
   "pygments_lexer": "ipython3",
   "version": "3.8.5"
  }
 },
 "nbformat": 4,
 "nbformat_minor": 4
}
