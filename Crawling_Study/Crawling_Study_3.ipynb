{
 "cells": [
  {
   "cell_type": "code",
   "execution_count": 1,
   "metadata": {},
   "outputs": [],
   "source": [
    "import requests as req\n",
    "from bs4 import BeautifulSoup as bs"
   ]
  },
  {
   "cell_type": "code",
   "execution_count": 3,
   "metadata": {},
   "outputs": [],
   "source": [
    "# 1. 네이버 금융사이트에서 코스피 Top 100 요청\n",
    "res=req.get('https://finance.naver.com/sise/sise_quant.naver')"
   ]
  },
  {
   "cell_type": "code",
   "execution_count": 6,
   "metadata": {},
   "outputs": [],
   "source": [
    "# 2. 데이터를 text형태에서 html언어로 변형하기(beautiful soup의 역할)\n",
    "soup=bs(res.text,'lxml')"
   ]
  },
  {
   "cell_type": "code",
   "execution_count": 15,
   "metadata": {},
   "outputs": [],
   "source": [
    "#3. soup데이터에서 내가 필요한 요소 찾아오기\n",
    "title=soup.select('a.tltle')"
   ]
  },
  {
   "cell_type": "code",
   "execution_count": 17,
   "metadata": {
    "scrolled": true
   },
   "outputs": [],
   "source": [
    "price=soup.select('td.number')"
   ]
  },
  {
   "cell_type": "code",
   "execution_count": 18,
   "metadata": {},
   "outputs": [
    {
     "name": "stdout",
     "output_type": "stream",
     "text": [
      "100\n",
      "1000\n"
     ]
    }
   ],
   "source": [
    "#4. 데이터의 개수과 정확한지 검증\n",
    "print(len(title))\n",
    "print(len(price))"
   ]
  },
  {
   "cell_type": "code",
   "execution_count": 19,
   "metadata": {},
   "outputs": [],
   "source": [
    "#contentarea > div.box_type_l > table > tbody > tr:nth-child(3) > td:nth-child(3)"
   ]
  },
  {
   "cell_type": "code",
   "execution_count": 21,
   "metadata": {},
   "outputs": [
    {
     "data": {
      "text/plain": [
       "[<td class=\"number\">2,695</td>,\n",
       " <td class=\"number\">3,955</td>,\n",
       " <td class=\"number\">9,455</td>,\n",
       " <td class=\"number\">15,490</td>,\n",
       " <td class=\"number\">4,700</td>,\n",
       " <td class=\"number\">12,635</td>,\n",
       " <td class=\"number\">3,380</td>,\n",
       " <td class=\"number\">12,720</td>,\n",
       " <td class=\"number\">9,040</td>,\n",
       " <td class=\"number\">6,700</td>,\n",
       " <td class=\"number\">70,800</td>,\n",
       " <td class=\"number\">15,400</td>,\n",
       " <td class=\"number\">1,515</td>,\n",
       " <td class=\"number\">49,855</td>,\n",
       " <td class=\"number\">420</td>,\n",
       " <td class=\"number\">4,985</td>,\n",
       " <td class=\"number\">8,105</td>,\n",
       " <td class=\"number\">13,250</td>,\n",
       " <td class=\"number\">408</td>,\n",
       " <td class=\"number\">455</td>,\n",
       " <td class=\"number\">390</td>,\n",
       " <td class=\"number\">3,670</td>,\n",
       " <td class=\"number\">905</td>,\n",
       " <td class=\"number\">23,220</td>,\n",
       " <td class=\"number\">4,215</td>,\n",
       " <td class=\"number\">8,260</td>,\n",
       " <td class=\"number\">767</td>,\n",
       " <td class=\"number\">8,350</td>,\n",
       " <td class=\"number\">8,265</td>,\n",
       " <td class=\"number\">32,785</td>,\n",
       " <td class=\"number\">692</td>,\n",
       " <td class=\"number\">22,040</td>,\n",
       " <td class=\"number\">11,320</td>,\n",
       " <td class=\"number\">9,655</td>,\n",
       " <td class=\"number\">8,450</td>,\n",
       " <td class=\"number\">2,565</td>,\n",
       " <td class=\"number\">7,170</td>,\n",
       " <td class=\"number\">1,420</td>,\n",
       " <td class=\"number\">130,000</td>,\n",
       " <td class=\"number\">16,050</td>,\n",
       " <td class=\"number\">12,325</td>,\n",
       " <td class=\"number\">9,450</td>,\n",
       " <td class=\"number\">9,245</td>,\n",
       " <td class=\"number\">23,250</td>,\n",
       " <td class=\"number\">59,500</td>,\n",
       " <td class=\"number\">1,247</td>,\n",
       " <td class=\"number\">305</td>,\n",
       " <td class=\"number\">2,525</td>,\n",
       " <td class=\"number\">4,200</td>,\n",
       " <td class=\"number\">17,400</td>,\n",
       " <td class=\"number\">5,130</td>,\n",
       " <td class=\"number\">1,909</td>,\n",
       " <td class=\"number\">893</td>,\n",
       " <td class=\"number\">14,210</td>,\n",
       " <td class=\"number\">13,290</td>,\n",
       " <td class=\"number\">5,805</td>,\n",
       " <td class=\"number\">46,350</td>,\n",
       " <td class=\"number\">4,430</td>,\n",
       " <td class=\"number\">15,630</td>,\n",
       " <td class=\"number\">10,215</td>,\n",
       " <td class=\"number\">1,198</td>,\n",
       " <td class=\"number\">12,540</td>,\n",
       " <td class=\"number\">9,380</td>,\n",
       " <td class=\"number\">8,490</td>,\n",
       " <td class=\"number\">1,450</td>,\n",
       " <td class=\"number\">105</td>,\n",
       " <td class=\"number\">26,900</td>,\n",
       " <td class=\"number\">798</td>,\n",
       " <td class=\"number\">678</td>,\n",
       " <td class=\"number\">2,840</td>,\n",
       " <td class=\"number\">9,390</td>,\n",
       " <td class=\"number\">1,589</td>,\n",
       " <td class=\"number\">2,850</td>,\n",
       " <td class=\"number\">11,930</td>,\n",
       " <td class=\"number\">59,500</td>,\n",
       " <td class=\"number\">8,450</td>,\n",
       " <td class=\"number\">14,580</td>,\n",
       " <td class=\"number\">13,360</td>,\n",
       " <td class=\"number\">11,700</td>,\n",
       " <td class=\"number\">295,500</td>,\n",
       " <td class=\"number\">15,330</td>,\n",
       " <td class=\"number\">2,870</td>,\n",
       " <td class=\"number\">1,761</td>,\n",
       " <td class=\"number\">25,420</td>,\n",
       " <td class=\"number\">8,280</td>,\n",
       " <td class=\"number\">7,445</td>,\n",
       " <td class=\"number\">26,550</td>,\n",
       " <td class=\"number\">8,020</td>,\n",
       " <td class=\"number\">13,265</td>,\n",
       " <td class=\"number\">2,830</td>,\n",
       " <td class=\"number\">7,735</td>,\n",
       " <td class=\"number\">13,255</td>,\n",
       " <td class=\"number\">1,240</td>,\n",
       " <td class=\"number\">4,230</td>,\n",
       " <td class=\"number\">7,230</td>,\n",
       " <td class=\"number\">2,575</td>,\n",
       " <td class=\"number\">43,400</td>,\n",
       " <td class=\"number\">78,200</td>,\n",
       " <td class=\"number\">20,535</td>,\n",
       " <td class=\"number\">1,899</td>]"
      ]
     },
     "execution_count": 21,
     "metadata": {},
     "output_type": "execute_result"
    }
   ],
   "source": [
    "price=soup.select('td.number:nth-child(3)')\n",
    "price"
   ]
  },
  {
   "cell_type": "code",
   "execution_count": 22,
   "metadata": {},
   "outputs": [
    {
     "name": "stdout",
     "output_type": "stream",
     "text": [
      "100\n"
     ]
    }
   ],
   "source": [
    "print(len(price))"
   ]
  },
  {
   "cell_type": "code",
   "execution_count": 24,
   "metadata": {},
   "outputs": [],
   "source": [
    "#contentarea > div.box_type_l > table > tbody > tr:nth-child(3) > td:nth-child(6)"
   ]
  },
  {
   "cell_type": "code",
   "execution_count": 26,
   "metadata": {},
   "outputs": [],
   "source": [
    "volume=soup.select('td.number:nth-child(6)')"
   ]
  },
  {
   "cell_type": "code",
   "execution_count": 32,
   "metadata": {},
   "outputs": [],
   "source": [
    "# title,price,volume 리스트들에서 순수한 글자정보만 추출한 리스트를 새로 제작\n",
    "titleList=[]\n",
    "priceList=[]\n",
    "volumeList=[]\n",
    "for i in range(len(title)):\n",
    "    titleList.append(title[i].text)\n",
    "    priceList.append(price[i].text)\n",
    "    volumeList.append(volume[i].text)"
   ]
  },
  {
   "cell_type": "markdown",
   "metadata": {},
   "source": [
    "# 정제된 데이터를 표 형식으로 제작"
   ]
  },
  {
   "cell_type": "code",
   "execution_count": 33,
   "metadata": {},
   "outputs": [],
   "source": [
    "import pandas as pd"
   ]
  },
  {
   "cell_type": "code",
   "execution_count": 41,
   "metadata": {},
   "outputs": [],
   "source": [
    "data={'title':titleList,'price':priceList,'volume':volumeList}"
   ]
  },
  {
   "cell_type": "code",
   "execution_count": 42,
   "metadata": {},
   "outputs": [],
   "source": [
    "kospi=pd.DataFrame(data)"
   ]
  },
  {
   "cell_type": "code",
   "execution_count": 43,
   "metadata": {},
   "outputs": [
    {
     "data": {
      "text/html": [
       "<div>\n",
       "<style scoped>\n",
       "    .dataframe tbody tr th:only-of-type {\n",
       "        vertical-align: middle;\n",
       "    }\n",
       "\n",
       "    .dataframe tbody tr th {\n",
       "        vertical-align: top;\n",
       "    }\n",
       "\n",
       "    .dataframe thead th {\n",
       "        text-align: right;\n",
       "    }\n",
       "</style>\n",
       "<table border=\"1\" class=\"dataframe\">\n",
       "  <thead>\n",
       "    <tr style=\"text-align: right;\">\n",
       "      <th></th>\n",
       "      <th>title</th>\n",
       "      <th>price</th>\n",
       "      <th>volume</th>\n",
       "    </tr>\n",
       "  </thead>\n",
       "  <tbody>\n",
       "    <tr>\n",
       "      <th>0</th>\n",
       "      <td>KODEX 200선물인버스2X</td>\n",
       "      <td>2,695</td>\n",
       "      <td>120,111,782</td>\n",
       "    </tr>\n",
       "    <tr>\n",
       "      <th>1</th>\n",
       "      <td>KODEX 코스닥150선물인버스</td>\n",
       "      <td>3,955</td>\n",
       "      <td>57,282,234</td>\n",
       "    </tr>\n",
       "    <tr>\n",
       "      <th>2</th>\n",
       "      <td>KODEX 코스닥150레버리지</td>\n",
       "      <td>9,455</td>\n",
       "      <td>38,374,903</td>\n",
       "    </tr>\n",
       "    <tr>\n",
       "      <th>3</th>\n",
       "      <td>KODEX 레버리지</td>\n",
       "      <td>15,490</td>\n",
       "      <td>14,551,517</td>\n",
       "    </tr>\n",
       "    <tr>\n",
       "      <th>4</th>\n",
       "      <td>KODEX 인버스</td>\n",
       "      <td>4,700</td>\n",
       "      <td>13,520,092</td>\n",
       "    </tr>\n",
       "    <tr>\n",
       "      <th>...</th>\n",
       "      <td>...</td>\n",
       "      <td>...</td>\n",
       "      <td>...</td>\n",
       "    </tr>\n",
       "    <tr>\n",
       "      <th>95</th>\n",
       "      <td>롯데손해보험</td>\n",
       "      <td>2,575</td>\n",
       "      <td>1,057,707</td>\n",
       "    </tr>\n",
       "    <tr>\n",
       "      <th>96</th>\n",
       "      <td>두산로보틱스</td>\n",
       "      <td>43,400</td>\n",
       "      <td>1,039,412</td>\n",
       "    </tr>\n",
       "    <tr>\n",
       "      <th>97</th>\n",
       "      <td>기아</td>\n",
       "      <td>78,200</td>\n",
       "      <td>1,028,453</td>\n",
       "    </tr>\n",
       "    <tr>\n",
       "      <th>98</th>\n",
       "      <td>KODEX 미국S&amp;P500선물(H)</td>\n",
       "      <td>20,535</td>\n",
       "      <td>1,006,420</td>\n",
       "    </tr>\n",
       "    <tr>\n",
       "      <th>99</th>\n",
       "      <td>신성이엔지</td>\n",
       "      <td>1,899</td>\n",
       "      <td>1,004,020</td>\n",
       "    </tr>\n",
       "  </tbody>\n",
       "</table>\n",
       "<p>100 rows × 3 columns</p>\n",
       "</div>"
      ],
      "text/plain": [
       "                  title   price       volume\n",
       "0      KODEX 200선물인버스2X   2,695  120,111,782\n",
       "1     KODEX 코스닥150선물인버스   3,955   57,282,234\n",
       "2      KODEX 코스닥150레버리지   9,455   38,374,903\n",
       "3            KODEX 레버리지  15,490   14,551,517\n",
       "4             KODEX 인버스   4,700   13,520,092\n",
       "..                  ...     ...          ...\n",
       "95               롯데손해보험   2,575    1,057,707\n",
       "96               두산로보틱스  43,400    1,039,412\n",
       "97                   기아  78,200    1,028,453\n",
       "98  KODEX 미국S&P500선물(H)  20,535    1,006,420\n",
       "99                신성이엔지   1,899    1,004,020\n",
       "\n",
       "[100 rows x 3 columns]"
      ]
     },
     "execution_count": 43,
     "metadata": {},
     "output_type": "execute_result"
    }
   ],
   "source": [
    "kospi"
   ]
  },
  {
   "cell_type": "code",
   "execution_count": 46,
   "metadata": {},
   "outputs": [],
   "source": [
    "kospi.to_csv('kospi.csv',encoding='utf-8-sig')"
   ]
  },
  {
   "cell_type": "code",
   "execution_count": null,
   "metadata": {},
   "outputs": [],
   "source": []
  }
 ],
 "metadata": {
  "kernelspec": {
   "display_name": "Python 3",
   "language": "python",
   "name": "python3"
  },
  "language_info": {
   "codemirror_mode": {
    "name": "ipython",
    "version": 3
   },
   "file_extension": ".py",
   "mimetype": "text/x-python",
   "name": "python",
   "nbconvert_exporter": "python",
   "pygments_lexer": "ipython3",
   "version": "3.8.5"
  }
 },
 "nbformat": 4,
 "nbformat_minor": 4
}
