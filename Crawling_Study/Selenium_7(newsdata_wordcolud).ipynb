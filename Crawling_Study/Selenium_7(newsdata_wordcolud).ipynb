{
 "cells": [
  {
   "cell_type": "code",
   "execution_count": 1,
   "metadata": {},
   "outputs": [],
   "source": [
    "import requests as req\n",
    "from bs4 import BeautifulSoup as bs"
   ]
  },
  {
   "cell_type": "code",
   "execution_count": 2,
   "metadata": {},
   "outputs": [],
   "source": [
    "titleList=[]\n",
    "for j in range(1,100,10):\n",
    "    res=req.get('https://search.naver.com/search.naver?where=news&sm=tab_pge&query=%EC%BD%94%EB%A1%9C%EB%82%98&sort=0&photo=0&field=0&pd=0&ds=&de=&cluster_rank=74&mynews=0&office_type=0&office_section_code=0&news_office_checked=&office_category=0&service_area=0&nso=so:r,p:all,a:all&start='+str(j))\n",
    "    soup=bs(res.text,'lxml')\n",
    "    title=soup.select('a.news_tit')\n",
    "    for i in title:\n",
    "        titleList.append(i.text.strip())\n",
    "\n",
    "    "
   ]
  },
  {
   "cell_type": "code",
   "execution_count": 3,
   "metadata": {},
   "outputs": [
    {
     "data": {
      "text/plain": [
       "['\"mRNA 아니다\"…노바백스 코로나 개량백신, 공급 개시',\n",
       " '英총리, 코로나19 사망자 유족에 사과했지만 \"외식 권장 옳았다\"',\n",
       " '\"코로나 끝나니 안 팔리네\"…전자제품, \\'재활용 목표량\\'도 감소',\n",
       " '“코로나19 이후 최악 성적표”...3분기 기업 매출 5.2% 감소',\n",
       " '코로나19 이후 늘던 증시 퇴출기업 올해 줄어든 까닭은',\n",
       " '코로나 변이 쏟아져도…백신 접종 9.2%, 64세 이하는 2% 뿐',\n",
       " '[르포] “코로나 때가 낫다”…해외직구에 밀리고 2030 외면받는 강변 테크노...',\n",
       " '코로나19 이후 \\'홍역\\' 유행...\"개인위생 철저히\"',\n",
       " '독감에 코로나19, 폐렴까지 ‘동시에’…호흡기 질환 비상',\n",
       " '코로나·독감·중국발 폐렴까지…여행 소비 심리 꺾일까',\n",
       " '코로나 변이 쏟아져도…백신 접종 9.2%, 64세 이하는 2% 뿐',\n",
       " \"'코로나 특수' 사라지니 체불·괴롭힘…IT·플랫폼업계 집중단속\",\n",
       " '탄탄하다던 고용시장 외국인력 빼니…코로나19 수준으로 ‘뚝’',\n",
       " '[르포] “코로나 때가 낫다”…해외직구에 밀리고 2030 외면받는 강변 테크노...',\n",
       " '코로나19 이후 \\'홍역\\' 유행...\"개인위생 철저히\"',\n",
       " \"코로나 위기단계 '주의'로 낮아질까…이번주 하향 여부 결정할듯\",\n",
       " '독감에 코로나19, 폐렴까지 ‘동시에’…호흡기 질환 비상',\n",
       " '코로나·독감·중국발 폐렴까지…여행 소비 심리 꺾일까',\n",
       " '독감에 코로나19, 폐렴까지 ‘동시에’…호흡기 질환 비상',\n",
       " '단식 나선 ‘덕분에’ 코로나19 영웅들 [포토IN]',\n",
       " '故 김기덕 감독 3주기…코로나19 합병증→씁쓸히 떠난 거장',\n",
       " '코로나19 악재 다 털었다..하나투어, 해외여행 송출객 621% 급증',\n",
       " '횡성군, 보건지소 순회 코로나19 예방접종 실시',\n",
       " '올해 인천공항 여객 5600만명 예상…코로나 이전 80% 회복',\n",
       " '논산시, 코로나19 대응 백서 발간',\n",
       " '지난해 만성질환 사망자 28만명… 코로나19 거치며 소아청소년 비만↑',\n",
       " '이르면 이번 주 코로나19 위기경보 단계 하향 여부 결정',\n",
       " '또다시 찾아온 불청객-코로나19 변이 HV.1[통신One]',\n",
       " '中 폐렴·독감 유행…코로나19 백신 접종 권장',\n",
       " '코로나19가 바꾼 호흡기 바이러스…상황 매주 점검(종합)',\n",
       " '명품 브랜드, 코로나 ‘보복소비’ 멈추자 재고 처리 골머리',\n",
       " '[THINK ENGLISH] 코로나19 예방용 마스크의 흥망성쇠',\n",
       " '코로나 때 과도한 발주…내년 경기 침체 우려',\n",
       " '\\'코로나19 영웅이라더니\\'...\"은행 대출로 겨우 연명\"',\n",
       " '코로나 사망 많은 요양병원…“여전히 환기 취약·훈련 안 해”',\n",
       " \"'코로나 유행' 겨울 왔는데…장년층 기저질환자, 백신 접종률 '한 자릿수'\",\n",
       " '[세종 다문화] 코로나 엔데믹… 고향길 편해져',\n",
       " 'SK바사, 노바백스 코로나19 개량 백신 공급 시작 “18일부터 접종”',\n",
       " \"계명대 대구동산병원 '제5회 영석상' 수상…코로나19 극복 공로\",\n",
       " '\\'코로나19 영웅이라더니\\'...\"은행 대출로 겨우 연명\"',\n",
       " '‘화장실 혼밥’하는 청년들… 심리적 도피처 찾아 고립 자처 [심층기획]',\n",
       " '세이브더칠드런 \"코로나19 아동의 외로움과 불평등 사례 모은다\"',\n",
       " '英 존슨 전총리, 코로나 피해 사과…\"심각성 빨리 알았어야\"',\n",
       " '[2023 종교계] 코로나 딛고 부활절·부처님오신날 축제',\n",
       " '2022년 사망자 74%가 ‘만성질환’',\n",
       " '서울 아파트 평균 월세 ‘100만원’ 시대…용산·서초·성동 順',\n",
       " '코로나 이후 늘어난 ‘소아감염병’…유행 시기 표시한 달력에 나온다',\n",
       " '코로나 이후 청소년 자원봉사 급감한 한국, 미국·프랑스는 달랐다',\n",
       " '한국 학업성취도, 코로나 겪고도 상위권',\n",
       " '대구교육청, 결핵퇴치사업 후원 성금 100만원 전달',\n",
       " '대전시, 변이바이러스 분석 항목 확대…1개→8개',\n",
       " '현대차·기아 7년만 수출 200만대 돌파…수출증가율 10년래 최고',\n",
       " \"북한, '유엔 인도지원 계획' 대상서 제외…4년 연속\",\n",
       " '국립중앙박물관, 올해 관람객 400만명…박물관 개관 이후 최다',\n",
       " '\"IMF·코로나19 때보다 더 어려워요\"…송년회도 실종',\n",
       " '국회, 소상공인 보호법 개정…코로나19 재난지원금 8000억 환수 면제',\n",
       " '\"코로나 땐 부려 먹더니 240명 나가라\" 분노한 콜센터노동자들',\n",
       " '코로나 엔데믹에… 장애인 근로자 생계 ‘벼랑 끝’ [우리는 일회용이 아닙니...',\n",
       " '코로나 ‘확찐자’된 3040 남자…절반 이상이 비만',\n",
       " '<2023 창업시장 결산> 코로나 끝나도 찬바람만',\n",
       " '대전시, 겨울철 호흡기감염병 증가세…주의 당부',\n",
       " '\"中폐렴확산에 \\'건강코드\\' 재등장…상하이공항 코로나 검사재개\"',\n",
       " '코로나 백신 피해 29명 보상 결정…사망위로금 56명→1329명',\n",
       " \"코로나 완화에 작년 운수업 매출 38조 증가…항공여객 193% '껑충'\",\n",
       " '\"코로나 이후 먹거리 찾아라\"…백신 생산 빅3 업체 \\'새 맛집\\' 오픈',\n",
       " '대전시, 코로나19 대응백서 평가 전국 1위',\n",
       " \"中 병원에 몰려든 수백명의 환자들… 공포의 '젠캉마' 부활하나[베이징 다이어...\",\n",
       " \"감기 몸살에 턱까지 아플 땐 '이 질환' 의심해야\",\n",
       " '\"코로나19 백신 \\'엉뚱한 단백질\\' 만들 수 있다\"',\n",
       " '포항 호미곶 한민족해맞이축전 4년 만에 개최',\n",
       " 'DGB생명 변액펀드, 3년 수익률도 업계 1위',\n",
       " '중장년내일센터 통해 2092명 재취업…노하우는?',\n",
       " '충북 저소득 자영업 다중채무자 대출 3조원 육박',\n",
       " '3분기 기업 매출 전년比 5.2% 감소…3년여 만에 최악',\n",
       " '\"코로나 잘 막은 한국에 기대 커\"…\\'글로벌보건안보 조정사무소\\' 개소',\n",
       " '성장챔피언 150곳…이 기업들이 미래 한국 이끈다',\n",
       " '\"코로나 먹는치료제 \\'라게브리오\\', 중증화 위험도 29% 낮춰\"',\n",
       " '여행갈 때 ‘이것’ 모르면 땅치고 후회…요새 뜨는 사기수법 뭐길래',\n",
       " '인천~뉴욕 여객 에어프레미아 취항후 코로나 이전 대비 4.9% 상승',\n",
       " '코로나19에 전 세계 학생들 성적 ‘뚝’…한국은 지켰다',\n",
       " \"IPA, 주한 외국적선사대표협회 초청 '인천항' 설명회\",\n",
       " '“전세계 깜짝놀랐다”…‘코로나 시국’에도 한국 학생 공부 잘하는 이유',\n",
       " '잇딴 코로나치료제 개발 중단… \"정부 장기 로드맵 부재 아쉬워\"',\n",
       " '올 겨울 코로나 기승부릴까…걱정되면 ‘이것’부터 하세요',\n",
       " '회복세 탄 항공株, 유가 하락 호재까지…내년 비상할까',\n",
       " '요세미티 암벽 매달려 결혼사진 찍는 커플들',\n",
       " '인권위 \"개인과외 교습자 코로나19 손실보전해야\"',\n",
       " '질병청, 화이자와 코로나19 백신 공급·감염병 대응 논의',\n",
       " '경찰대, 말레이 최고 국립대 말라야대학과 치안연구 협력',\n",
       " \"[깊이보기] '극단적 선택' 생각하는 청소년이 늘었다...이유는?\",\n",
       " '추워진 날씨에 독감·코로나 등 호흡기 질환 유의해야',\n",
       " \"日, 연말연시 여행수요 코로나 전 95% 회복…'엔저' 부담, 해외 자제\",\n",
       " '한국 중3·고1, 코로나에도 학업성취도 상위권… 수학은 ‘양극화’',\n",
       " \"'코로나19 후유증' 폐섬유증, 항섬유화제로 치료 맞다\",\n",
       " '코로나 지원금 받은 소상공인, 요건 충족 못해도 환수 안한다',\n",
       " '코로나 보복소비 효과 끝...재고 쓰나미에 명품업체들 직격탄',\n",
       " \"우울증·섭식장애 청소년, 디딤센터 통해 '장교'의 꿈 품다\",\n",
       " '압타바이오, 코로나19 치료제 美 임상 2상 중단',\n",
       " \"인천시 서구보건소, 질병관리청 주관 '코로나19 우수백서' 동상\",\n",
       " '코로나 가니 ‘대한민국 아저씨’ 30~50대 절반이 비만 ‘경고등’…“폭음 등...']"
      ]
     },
     "execution_count": 3,
     "metadata": {},
     "output_type": "execute_result"
    }
   ],
   "source": [
    "titleList"
   ]
  },
  {
   "cell_type": "markdown",
   "metadata": {},
   "source": [
    "# 수집한 데이터로 워드클라우드 제작\n",
    "* 가장 많은 빈도수를 가진 단어를 시각화 해주는 라이브러리"
   ]
  },
  {
   "cell_type": "code",
   "execution_count": 4,
   "metadata": {},
   "outputs": [
    {
     "name": "stdout",
     "output_type": "stream",
     "text": [
      "Requirement already satisfied: wordcloud in c:\\users\\15z980-ga7jk\\anaconda3\\lib\\site-packages (1.8.2.2)\n",
      "Requirement already satisfied: pillow in c:\\users\\15z980-ga7jk\\anaconda3\\lib\\site-packages (from wordcloud) (8.0.1)\n",
      "Requirement already satisfied: matplotlib in c:\\users\\15z980-ga7jk\\anaconda3\\lib\\site-packages (from wordcloud) (3.3.2)\n",
      "Requirement already satisfied: numpy>=1.6.1 in c:\\users\\15z980-ga7jk\\anaconda3\\lib\\site-packages (from wordcloud) (1.24.3)\n",
      "Requirement already satisfied: python-dateutil>=2.1 in c:\\users\\15z980-ga7jk\\anaconda3\\lib\\site-packages (from matplotlib->wordcloud) (2.8.2)\n",
      "Requirement already satisfied: kiwisolver>=1.0.1 in c:\\users\\15z980-ga7jk\\anaconda3\\lib\\site-packages (from matplotlib->wordcloud) (1.3.0)\n",
      "Requirement already satisfied: cycler>=0.10 in c:\\users\\15z980-ga7jk\\anaconda3\\lib\\site-packages (from matplotlib->wordcloud) (0.10.0)\n",
      "Requirement already satisfied: certifi>=2020.06.20 in c:\\users\\15z980-ga7jk\\anaconda3\\lib\\site-packages (from matplotlib->wordcloud) (2020.6.20)\n",
      "Requirement already satisfied: pyparsing!=2.0.4,!=2.1.2,!=2.1.6,>=2.0.3 in c:\\users\\15z980-ga7jk\\anaconda3\\lib\\site-packages (from matplotlib->wordcloud) (2.4.7)\n",
      "Requirement already satisfied: six>=1.5 in c:\\users\\15z980-ga7jk\\anaconda3\\lib\\site-packages (from python-dateutil>=2.1->matplotlib->wordcloud) (1.15.0)\n"
     ]
    }
   ],
   "source": [
    "!pip install wordcloud"
   ]
  },
  {
   "cell_type": "code",
   "execution_count": 5,
   "metadata": {},
   "outputs": [
    {
     "name": "stdout",
     "output_type": "stream",
     "text": [
      "Requirement already satisfied: konlpy in c:\\users\\15z980-ga7jk\\anaconda3\\lib\\site-packages (0.6.0)\n",
      "Requirement already satisfied: JPype1>=0.7.0 in c:\\users\\15z980-ga7jk\\anaconda3\\lib\\site-packages (from konlpy) (1.4.1)\n",
      "Requirement already satisfied: numpy>=1.6 in c:\\users\\15z980-ga7jk\\anaconda3\\lib\\site-packages (from konlpy) (1.24.3)\n",
      "Requirement already satisfied: lxml>=4.1.0 in c:\\users\\15z980-ga7jk\\anaconda3\\lib\\site-packages (from konlpy) (4.6.1)\n",
      "Requirement already satisfied: packaging in c:\\users\\15z980-ga7jk\\anaconda3\\lib\\site-packages (from JPype1>=0.7.0->konlpy) (20.4)\n",
      "Requirement already satisfied: six in c:\\users\\15z980-ga7jk\\anaconda3\\lib\\site-packages (from packaging->JPype1>=0.7.0->konlpy) (1.15.0)\n",
      "Requirement already satisfied: pyparsing>=2.0.2 in c:\\users\\15z980-ga7jk\\anaconda3\\lib\\site-packages (from packaging->JPype1>=0.7.0->konlpy) (2.4.7)\n"
     ]
    }
   ],
   "source": [
    "# 한글 형태소 분석\n",
    "!pip install konlpy"
   ]
  },
  {
   "cell_type": "code",
   "execution_count": 6,
   "metadata": {},
   "outputs": [],
   "source": [
    "from wordcloud import WordCloud # 워드클라우를 만들 수 있는 라이브러리\n",
    "from konlpy.tag import Twitter # 한글의 형태소를 분석해주는 라이브러리\n",
    "from nltk import FreqDist # 단어의 빈도수를 체크해주는 라이브러리\n",
    "import matplotlib.pyplot as plt"
   ]
  },
  {
   "cell_type": "code",
   "execution_count": null,
   "metadata": {},
   "outputs": [],
   "source": []
  }
 ],
 "metadata": {
  "kernelspec": {
   "display_name": "Python 3",
   "language": "python",
   "name": "python3"
  },
  "language_info": {
   "codemirror_mode": {
    "name": "ipython",
    "version": 3
   },
   "file_extension": ".py",
   "mimetype": "text/x-python",
   "name": "python",
   "nbconvert_exporter": "python",
   "pygments_lexer": "ipython3",
   "version": "3.8.5"
  }
 },
 "nbformat": 4,
 "nbformat_minor": 4
}
