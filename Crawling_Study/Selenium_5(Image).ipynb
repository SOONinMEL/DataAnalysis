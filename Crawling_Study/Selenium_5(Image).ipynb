{
 "cells": [
  {
   "cell_type": "code",
   "execution_count": 1,
   "metadata": {},
   "outputs": [],
   "source": [
    "from selenium import webdriver as wb\n",
    "from selenium.webdriver.common.keys import Keys\n",
    "import time\n",
    "# 파일시스템을 위한 라이브러리(파일,폴더를 생성 삭제)\n",
    "import os\n",
    "# 이미지의 url값을 파일로 변형시켜주는 라이브러리\n",
    "from urllib.request import urlretrieve"
   ]
  },
  {
   "cell_type": "code",
   "execution_count": 2,
   "metadata": {},
   "outputs": [],
   "source": [
    "driver=wb.Chrome()\n",
    "driver.get('http://www.naver.com')"
   ]
  },
  {
   "cell_type": "code",
   "execution_count": 4,
   "metadata": {},
   "outputs": [
    {
     "name": "stderr",
     "output_type": "stream",
     "text": [
      "<ipython-input-4-ef1eeff389be>:1: DeprecationWarning: find_element_by_* commands are deprecated. Please use find_element() instead\n",
      "  search=driver.find_element_by_id('query')\n"
     ]
    }
   ],
   "source": [
    "search=driver.find_element_by_id('query')\n",
    "search.send_keys('손흥민')"
   ]
  },
  {
   "cell_type": "code",
   "execution_count": 5,
   "metadata": {},
   "outputs": [],
   "source": [
    "search.send_keys(Keys.ENTER)"
   ]
  },
  {
   "cell_type": "code",
   "execution_count": 7,
   "metadata": {},
   "outputs": [
    {
     "name": "stderr",
     "output_type": "stream",
     "text": [
      "<ipython-input-7-8ff2a5bd005d>:1: DeprecationWarning: find_element_by_css_selector is deprecated. Please use find_element(by=By.CSS_SELECTOR, value=css_selector) instead\n",
      "  imgBtn=driver.find_element_by_css_selector('div.api_flicking_wrap._conveyer_root>div:nth-child(2)')\n"
     ]
    }
   ],
   "source": [
    "imgBtn=driver.find_element_by_css_selector('div.api_flicking_wrap._conveyer_root>div:nth-child(2)')\n",
    "imgBtn.click()"
   ]
  },
  {
   "cell_type": "code",
   "execution_count": 8,
   "metadata": {},
   "outputs": [
    {
     "name": "stderr",
     "output_type": "stream",
     "text": [
      "<ipython-input-8-67c4a03becf8>:3: DeprecationWarning: find_elements_by_css_selector is deprecated. Please use find_elements(by=By.CSS_SELECTOR, value=css_selector) instead\n",
      "  img=driver.find_elements_by_css_selector('img._fe_image_tab_content_thumbnail_image')\n"
     ]
    }
   ],
   "source": [
    "# 이미지태그들을 수집\n",
    "img=driver.find_elements_by_css_selector('img._fe_image_tab_content_thumbnail_image')"
   ]
  },
  {
   "cell_type": "code",
   "execution_count": 9,
   "metadata": {},
   "outputs": [
    {
     "data": {
      "text/plain": [
       "<selenium.webdriver.remote.webelement.WebElement (session=\"2baf63e98b85b0e45ec6bfe75d2b7202\", element=\"B533118F219AD9D6357BA6E914C430F5_element_8335\")>"
      ]
     },
     "execution_count": 9,
     "metadata": {},
     "output_type": "execute_result"
    }
   ],
   "source": [
    "img[0]"
   ]
  },
  {
   "cell_type": "code",
   "execution_count": 10,
   "metadata": {},
   "outputs": [
    {
     "data": {
      "text/plain": [
       "'https://search.pstatic.net/common/?src=http%3A%2F%2Fblogfiles.naver.net%2FMjAyMzExMTRfNjcg%2FMDAxNjk5ODkyMzQ0MDk5.GuYgEL0sq08nnsxiLdKGqH79luufmDZFoUv4c0M4L3Qg.hKP7rbNEEFHu1npshq3jsJs3kR77BUpFS0WV3IyHUSwg.JPEG.aeijin%2F%253F%2586%2590%253F%259D%25A5%25EB%25AF%253F.jpg&type=a340'"
      ]
     },
     "execution_count": 10,
     "metadata": {},
     "output_type": "execute_result"
    }
   ],
   "source": [
    "# 수집한 태그들 중에서 scr 속성 추출\n",
    "img[0].get_attribute('src') # get_attribute-selenium안에 있는 method"
   ]
  },
  {
   "cell_type": "code",
   "execution_count": 11,
   "metadata": {},
   "outputs": [],
   "source": [
    "# imgUrl리스트에 순수한 src값들만 저장\n",
    "imgUrl=[]\n",
    "for i in img:\n",
    "    imgUrl.append(i.get_attribute('src'))"
   ]
  },
  {
   "cell_type": "code",
   "execution_count": 14,
   "metadata": {},
   "outputs": [],
   "source": [
    "# os라이브러리를 통해 폴더를 생성\n",
    "# 바탕화면에 이미지 폴더가 없다면 바탕화면에 이미지폴더를 만들기\n",
    "if not os.path.isdir('C:/Users/15Z980-GA7JK/Desktop/img'):\n",
    "    os.mkdir('C:/Users/15Z980-GA7JK/Desktop/img')"
   ]
  },
  {
   "cell_type": "code",
   "execution_count": 15,
   "metadata": {},
   "outputs": [],
   "source": [
    "# url 경로값을 이미지 폴더안에 저장\n",
    "cnt=0;\n",
    "for i in imgUrl:\n",
    "    urlretrieve(i,'C:/Users/15Z980-GA7JK/Desktop/img/'+str(cnt)+'.jpg')\n",
    "    cnt+=1"
   ]
  },
  {
   "cell_type": "code",
   "execution_count": 16,
   "metadata": {},
   "outputs": [],
   "source": [
    "driver.quit()"
   ]
  }
 ],
 "metadata": {
  "kernelspec": {
   "display_name": "Python 3",
   "language": "python",
   "name": "python3"
  },
  "language_info": {
   "codemirror_mode": {
    "name": "ipython",
    "version": 3
   },
   "file_extension": ".py",
   "mimetype": "text/x-python",
   "name": "python",
   "nbconvert_exporter": "python",
   "pygments_lexer": "ipython3",
   "version": "3.8.5"
  }
 },
 "nbformat": 4,
 "nbformat_minor": 4
}
