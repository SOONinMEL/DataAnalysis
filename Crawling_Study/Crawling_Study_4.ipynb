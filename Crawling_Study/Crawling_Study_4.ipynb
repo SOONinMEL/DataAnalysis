{
 "cells": [
  {
   "cell_type": "code",
   "execution_count": 1,
   "metadata": {},
   "outputs": [],
   "source": [
    "import requests as req\n",
    "from bs4 import BeautifulSoup as bs\n",
    "import pandas as pd"
   ]
  },
  {
   "cell_type": "code",
   "execution_count": 8,
   "metadata": {},
   "outputs": [],
   "source": [
    "#1.페이지 정보요청\n",
    "res=req.get('https://music.bugs.co.kr/chart')"
   ]
  },
  {
   "cell_type": "code",
   "execution_count": 10,
   "metadata": {},
   "outputs": [],
   "source": [
    "#2.넘겨받은 데이터가 문자 형태이기 때문에 컴퓨터가 읽을 수 있는 언어로 변형\n",
    "soup=bs(res.text,'lxml')"
   ]
  },
  {
   "cell_type": "code",
   "execution_count": 14,
   "metadata": {},
   "outputs": [],
   "source": [
    "#3.수집\n",
    "# 구분자가 존재하지 않는다면 부모태그를 활용\n",
    "rank=soup.select('div.ranking>strong')"
   ]
  },
  {
   "cell_type": "code",
   "execution_count": 16,
   "metadata": {},
   "outputs": [],
   "source": [
    "title=soup.select('p.title>a')"
   ]
  },
  {
   "cell_type": "code",
   "execution_count": 22,
   "metadata": {},
   "outputs": [],
   "source": [
    "artist=soup.select('p.artist>a:nth-child(1)')"
   ]
  },
  {
   "cell_type": "code",
   "execution_count": 23,
   "metadata": {},
   "outputs": [
    {
     "name": "stdout",
     "output_type": "stream",
     "text": [
      "100\n",
      "100\n",
      "100\n"
     ]
    }
   ],
   "source": [
    "print(len(rank))\n",
    "print(len(title))\n",
    "print(len(artist))"
   ]
  },
  {
   "cell_type": "code",
   "execution_count": 26,
   "metadata": {},
   "outputs": [],
   "source": [
    "#4.순수한 글자정보만 담아줄 리스트 제작\n",
    "rank_list=[]\n",
    "title_list=[]\n",
    "artist_list=[]\n",
    "for i in range(len(rank)):\n",
    "    rank_list.append(rank[i].text)\n",
    "    title_list.append(title[i].text)\n",
    "    artist_list.append(artist[i].text)"
   ]
  },
  {
   "cell_type": "code",
   "execution_count": 27,
   "metadata": {},
   "outputs": [
    {
     "data": {
      "text/plain": [
       "['LE SSERAFIM (르세라핌)',\n",
       " 'aespa',\n",
       " 'Red Velvet (레드벨벳)',\n",
       " '다비치',\n",
       " 'IVE (아이브)',\n",
       " '제니 (JENNIE)',\n",
       " '정국',\n",
       " 'RIIZE',\n",
       " '성시경',\n",
       " 'AKMU(악뮤)',\n",
       " 'AKMU(악뮤)',\n",
       " 'NewJeans',\n",
       " 'IVE (아이브)',\n",
       " 'IVE (아이브)',\n",
       " 'IVE (아이브)',\n",
       " '정국',\n",
       " 'NewJeans',\n",
       " '세븐틴(SEVENTEEN)',\n",
       " '박재정',\n",
       " 'NewJeans',\n",
       " 'NewJeans',\n",
       " '다이나믹 듀오',\n",
       " '최유리',\n",
       " 'Lauv(라우브)',\n",
       " '전소미',\n",
       " 'Crush',\n",
       " '(여자)아이들',\n",
       " 'NewJeans',\n",
       " 'Red Velvet (레드벨벳)',\n",
       " '소연 ((여자)아이들)',\n",
       " 'aespa',\n",
       " '너드커넥션(Nerd Connection)',\n",
       " '우디(Woody)',\n",
       " '최유리',\n",
       " 'NewJeans',\n",
       " '미연 ((여자)아이들)',\n",
       " '화사 (HWASA)',\n",
       " 'IVE (아이브)',\n",
       " 'NewJeans',\n",
       " 'Charlie Puth(찰리 푸스)',\n",
       " '노을',\n",
       " 'IVE (아이브)',\n",
       " 'Charlie Puth(찰리 푸스)',\n",
       " 'AKMU(악뮤)',\n",
       " '로이킴',\n",
       " 'Stray Kids (스트레이 키즈)',\n",
       " '폴킴(Paul Kim)',\n",
       " 'DAY6 (데이식스)',\n",
       " '성시경',\n",
       " 'RIIZE',\n",
       " 'IVE (아이브)',\n",
       " '화사 (HWASA)',\n",
       " '범진',\n",
       " 'LE SSERAFIM (르세라핌)',\n",
       " '윤하(Younha/ユンナ)',\n",
       " '멜로망스(MeloMance)',\n",
       " 'STAYC(스테이씨)',\n",
       " '권은비',\n",
       " '경서예지',\n",
       " 'H1-KEY (하이키)',\n",
       " '잔나비',\n",
       " '임영웅',\n",
       " 'NewJeans',\n",
       " 'LE SSERAFIM (르세라핌)',\n",
       " 'LE SSERAFIM (르세라핌)',\n",
       " 'Crush',\n",
       " 'Charlie Puth(찰리 푸스)',\n",
       " '김민석 (멜로망스)',\n",
       " '세븐틴(SEVENTEEN)',\n",
       " 'STAYC(스테이씨)',\n",
       " 'Zac Efron(잭 에프론)',\n",
       " 'Paul Blanco',\n",
       " 'DK(디셈버)',\n",
       " 'Charlie Puth(찰리 푸스)',\n",
       " 'Justin Bieber(저스틴 비버)',\n",
       " 'NCT U',\n",
       " '10CM',\n",
       " '디오 (D.O.)',\n",
       " '정국',\n",
       " '정국',\n",
       " 'The Kid LAROI',\n",
       " 'Christopher(크리스토퍼)',\n",
       " '부석순(SEVENTEEN)',\n",
       " 'IVE (아이브)',\n",
       " '디오 (D.O.)',\n",
       " 'NCT 127',\n",
       " 'BLACKPINK',\n",
       " '태연 (TAEYEON)',\n",
       " '#안녕',\n",
       " '지수(JISOO)',\n",
       " '케이시',\n",
       " 'RIIZE',\n",
       " '윤하(Younha/ユンナ)',\n",
       " 'FIFTY FIFTY',\n",
       " 'aespa',\n",
       " '탑현',\n",
       " 'KISS OF LIFE',\n",
       " '테이(Tei)',\n",
       " '릴러말즈 (Leellamarz)',\n",
       " '우효(Oohyo)']"
      ]
     },
     "execution_count": 27,
     "metadata": {},
     "output_type": "execute_result"
    }
   ],
   "source": [
    "artist_list"
   ]
  },
  {
   "cell_type": "code",
   "execution_count": 29,
   "metadata": {},
   "outputs": [],
   "source": [
    "#5.데이터프레임 작성\n",
    "data={'rank':rank_list,'title':title_list,'artist':artist_list}\n",
    "chart=pd.DataFrame(data)"
   ]
  },
  {
   "cell_type": "code",
   "execution_count": 30,
   "metadata": {},
   "outputs": [
    {
     "data": {
      "text/html": [
       "<div>\n",
       "<style scoped>\n",
       "    .dataframe tbody tr th:only-of-type {\n",
       "        vertical-align: middle;\n",
       "    }\n",
       "\n",
       "    .dataframe tbody tr th {\n",
       "        vertical-align: top;\n",
       "    }\n",
       "\n",
       "    .dataframe thead th {\n",
       "        text-align: right;\n",
       "    }\n",
       "</style>\n",
       "<table border=\"1\" class=\"dataframe\">\n",
       "  <thead>\n",
       "    <tr style=\"text-align: right;\">\n",
       "      <th></th>\n",
       "      <th>title</th>\n",
       "      <th>artist</th>\n",
       "    </tr>\n",
       "    <tr>\n",
       "      <th>rank</th>\n",
       "      <th></th>\n",
       "      <th></th>\n",
       "    </tr>\n",
       "  </thead>\n",
       "  <tbody>\n",
       "    <tr>\n",
       "      <th>1</th>\n",
       "      <td>Perfect Night</td>\n",
       "      <td>LE SSERAFIM (르세라핌)</td>\n",
       "    </tr>\n",
       "    <tr>\n",
       "      <th>2</th>\n",
       "      <td>Drama</td>\n",
       "      <td>aespa</td>\n",
       "    </tr>\n",
       "    <tr>\n",
       "      <th>3</th>\n",
       "      <td>Chill Kill</td>\n",
       "      <td>Red Velvet (레드벨벳)</td>\n",
       "    </tr>\n",
       "    <tr>\n",
       "      <th>4</th>\n",
       "      <td>지극히 사적인 얘기</td>\n",
       "      <td>다비치</td>\n",
       "    </tr>\n",
       "    <tr>\n",
       "      <th>5</th>\n",
       "      <td>Baddie</td>\n",
       "      <td>IVE (아이브)</td>\n",
       "    </tr>\n",
       "    <tr>\n",
       "      <th>...</th>\n",
       "      <td>...</td>\n",
       "      <td>...</td>\n",
       "    </tr>\n",
       "    <tr>\n",
       "      <th>96</th>\n",
       "      <td>나에게 그대만이</td>\n",
       "      <td>탑현</td>\n",
       "    </tr>\n",
       "    <tr>\n",
       "      <th>97</th>\n",
       "      <td>Sugarcoat (NATTY Solo)</td>\n",
       "      <td>KISS OF LIFE</td>\n",
       "    </tr>\n",
       "    <tr>\n",
       "      <th>98</th>\n",
       "      <td>Monologue</td>\n",
       "      <td>테이(Tei)</td>\n",
       "    </tr>\n",
       "    <tr>\n",
       "      <th>99</th>\n",
       "      <td>이쁜 여자가 좋더라 (Feat. Gist, Jayci yucca)</td>\n",
       "      <td>릴러말즈 (Leellamarz)</td>\n",
       "    </tr>\n",
       "    <tr>\n",
       "      <th>100</th>\n",
       "      <td>민들레 (single ver.)</td>\n",
       "      <td>우효(Oohyo)</td>\n",
       "    </tr>\n",
       "  </tbody>\n",
       "</table>\n",
       "<p>100 rows × 2 columns</p>\n",
       "</div>"
      ],
      "text/plain": [
       "                                     title              artist\n",
       "rank                                                          \n",
       "1                            Perfect Night  LE SSERAFIM (르세라핌)\n",
       "2                                    Drama               aespa\n",
       "3                               Chill Kill   Red Velvet (레드벨벳)\n",
       "4                               지극히 사적인 얘기                 다비치\n",
       "5                                   Baddie           IVE (아이브)\n",
       "...                                    ...                 ...\n",
       "96                                나에게 그대만이                  탑현\n",
       "97                  Sugarcoat (NATTY Solo)        KISS OF LIFE\n",
       "98                               Monologue             테이(Tei)\n",
       "99    이쁜 여자가 좋더라 (Feat. Gist, Jayci yucca)   릴러말즈 (Leellamarz)\n",
       "100                      민들레 (single ver.)           우효(Oohyo)\n",
       "\n",
       "[100 rows x 2 columns]"
      ]
     },
     "execution_count": 30,
     "metadata": {},
     "output_type": "execute_result"
    }
   ],
   "source": [
    "chart.set_index('rank')"
   ]
  },
  {
   "cell_type": "code",
   "execution_count": 32,
   "metadata": {},
   "outputs": [],
   "source": [
    "#6.csv,html저장\n",
    "chart.to_csv('chart.csv',encoding='utf-8-sig')"
   ]
  },
  {
   "cell_type": "code",
   "execution_count": 34,
   "metadata": {},
   "outputs": [],
   "source": [
    "chart.to_html('chart.html',encoding='utf-8-sig')"
   ]
  },
  {
   "cell_type": "code",
   "execution_count": null,
   "metadata": {},
   "outputs": [],
   "source": []
  }
 ],
 "metadata": {
  "kernelspec": {
   "display_name": "Python 3",
   "language": "python",
   "name": "python3"
  },
  "language_info": {
   "codemirror_mode": {
    "name": "ipython",
    "version": 3
   },
   "file_extension": ".py",
   "mimetype": "text/x-python",
   "name": "python",
   "nbconvert_exporter": "python",
   "pygments_lexer": "ipython3",
   "version": "3.8.5"
  }
 },
 "nbformat": 4,
 "nbformat_minor": 4
}
