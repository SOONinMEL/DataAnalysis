{
 "cells": [
  {
   "cell_type": "code",
   "execution_count": 2,
   "metadata": {},
   "outputs": [],
   "source": [
    "import requests as req\n",
    "from bs4 import BeautifulSoup as bs"
   ]
  },
  {
   "cell_type": "code",
   "execution_count": 24,
   "metadata": {},
   "outputs": [],
   "source": [
    "#headers = {\n",
    "#    'User-Agent': 'Mozilla/5.0 (Windows NT 10.0; Win64; x64) AppleWebKit/537.36 (KHTML, like Gecko) Chrome/91.0.4472.124 Safari/537.36'\n",
    "#}\n",
    "\n",
    "#res=req.get('https://movie.daum.net/moviedb/grade?movieId=39519',headers=headers)"
   ]
  },
  {
   "cell_type": "code",
   "execution_count": 25,
   "metadata": {},
   "outputs": [],
   "source": [
    "#soup=bs(res.text,'lxml')"
   ]
  },
  {
   "cell_type": "code",
   "execution_count": 36,
   "metadata": {},
   "outputs": [],
   "source": [
    "# 리뷰데이터 수집\n",
    "# id: 한페이지에 한번만 등록되는 고유한 값\n",
    "# class: 한페이지에 여러번 가질 수 있다.\n",
    "#soup.select('ul.list_comment') \n",
    "# 실제데이터는 다른 서버에 있다."
   ]
  },
  {
   "cell_type": "code",
   "execution_count": 31,
   "metadata": {},
   "outputs": [],
   "source": [
    "# 불필요한 개행문자(엔터) 삭제하는 방법 strip()\n",
    "#for i in review:\n",
    "#    print(i.text.strip())"
   ]
  },
  {
   "cell_type": "code",
   "execution_count": 32,
   "metadata": {},
   "outputs": [],
   "source": [
    "# 삭제할 불필요한 문자 \n",
    "#viewr=soup.select('span.ico_viewr')"
   ]
  },
  {
   "cell_type": "code",
   "execution_count": 33,
   "metadata": {},
   "outputs": [],
   "source": [
    "# 불필요한 데이터(요소) 추출해서 제거하는 메소드\n",
    "# extract()\n",
    "#for i in viewr:\n",
    "#    i.extract()"
   ]
  },
  {
   "cell_type": "code",
   "execution_count": 34,
   "metadata": {},
   "outputs": [],
   "source": [
    "# extract기능을 활용하면 soup(원본데이터)에 영향을 주므로 데이터를 따로 출력하지않고 삭제할 수 있다.\n",
    "#for i in review:\n",
    "#    print(i.text.strip())"
   ]
  },
  {
   "cell_type": "code",
   "execution_count": 35,
   "metadata": {},
   "outputs": [],
   "source": [
    "#spo=soup.select('span.text_spo._text_spo') # 클래스값이 두개 일 경우 공백과 함께 출력될것이다-.을 사이에 추가해준다.\n",
    "#for i in spo:\n",
    "#    i.extract()    "
   ]
  },
  {
   "cell_type": "code",
   "execution_count": null,
   "metadata": {},
   "outputs": [],
   "source": [
    "#for i in range(1,11):\n",
    "    # res=req.get('page='+str(i)')\n",
    "    # soup=bs(res.text,'lxml')\n",
    "    # viewr=soup.select('span.'ico_viewr')\n",
    "    # spo=soup.select('span.text_spo._text_spo')\n",
    "    #for j in viewr:\n",
    "    #    j.extract\n",
    "    #for p in spo:\n",
    "    #   p.extract\n",
    "    #for i in review:\n",
    "    #    print(i.text.strip())"
   ]
  }
 ],
 "metadata": {
  "kernelspec": {
   "display_name": "Python 3",
   "language": "python",
   "name": "python3"
  },
  "language_info": {
   "codemirror_mode": {
    "name": "ipython",
    "version": 3
   },
   "file_extension": ".py",
   "mimetype": "text/x-python",
   "name": "python",
   "nbconvert_exporter": "python",
   "pygments_lexer": "ipython3",
   "version": "3.8.5"
  }
 },
 "nbformat": 4,
 "nbformat_minor": 4
}
