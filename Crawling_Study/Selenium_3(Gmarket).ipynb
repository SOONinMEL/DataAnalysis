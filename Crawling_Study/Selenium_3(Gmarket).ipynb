{
 "cells": [
  {
   "cell_type": "code",
   "execution_count": 1,
   "metadata": {},
   "outputs": [],
   "source": [
    "from selenium import webdriver as wb\n",
    "import time"
   ]
  },
  {
   "cell_type": "code",
   "execution_count": 2,
   "metadata": {},
   "outputs": [
    {
     "name": "stderr",
     "output_type": "stream",
     "text": [
      "<ipython-input-2-6db73aad15f0>:12: DeprecationWarning: find_elements_by_css_selector is deprecated. Please use find_elements(by=By.CSS_SELECTOR, value=css_selector) instead\n",
      "  img=driver.find_elements_by_css_selector('img.image__lazy.image__load')\n",
      "<ipython-input-2-6db73aad15f0>:15: DeprecationWarning: find_element_by_css_selector is deprecated. Please use find_element(by=By.CSS_SELECTOR, value=css_selector) instead\n",
      "  title=driver.find_element_by_css_selector('h1.itemtit').text\n",
      "<ipython-input-2-6db73aad15f0>:16: DeprecationWarning: find_element_by_css_selector is deprecated. Please use find_element(by=By.CSS_SELECTOR, value=css_selector) instead\n",
      "  price=driver.find_element_by_css_selector('strong.price_real').text\n",
      "<ipython-input-2-6db73aad15f0>:17: DeprecationWarning: find_element_by_css_selector is deprecated. Please use find_element(by=By.CSS_SELECTOR, value=css_selector) instead\n",
      "  cate=driver.find_element_by_css_selector('li.on>a').text\n"
     ]
    }
   ],
   "source": [
    "driver=wb.Chrome()\n",
    "time.sleep(0)\n",
    "driver.get('https://www.gmarket.co.kr/n/best')\n",
    "time.sleep(1)\n",
    "\n",
    "titlelist=[]\n",
    "pricelist=[]\n",
    "catelist=[]\n",
    "\n",
    "for i in range(10):\n",
    "# 이미지 태그들의 정보 수집\n",
    "    img=driver.find_elements_by_css_selector('img.image__lazy.image__load')\n",
    "    img[i].click()\n",
    "    time.sleep(2)\n",
    "    title=driver.find_element_by_css_selector('h1.itemtit').text\n",
    "    price=driver.find_element_by_css_selector('strong.price_real').text\n",
    "    cate=driver.find_element_by_css_selector('li.on>a').text\n",
    "    titlelist.append(title)\n",
    "    pricelist.append(price)\n",
    "    catelist.append(cate)\n",
    "    # 뒤로가기 버튼실행\n",
    "    driver.back()\n",
    "    time.sleep(2)\n",
    "driver.quit()"
   ]
  },
  {
   "cell_type": "code",
   "execution_count": 7,
   "metadata": {},
   "outputs": [
    {
     "data": {
      "text/html": [
       "<div>\n",
       "<style scoped>\n",
       "    .dataframe tbody tr th:only-of-type {\n",
       "        vertical-align: middle;\n",
       "    }\n",
       "\n",
       "    .dataframe tbody tr th {\n",
       "        vertical-align: top;\n",
       "    }\n",
       "\n",
       "    .dataframe thead th {\n",
       "        text-align: right;\n",
       "    }\n",
       "</style>\n",
       "<table border=\"1\" class=\"dataframe\">\n",
       "  <thead>\n",
       "    <tr style=\"text-align: right;\">\n",
       "      <th></th>\n",
       "      <th>title</th>\n",
       "      <th>price</th>\n",
       "      <th>category</th>\n",
       "    </tr>\n",
       "  </thead>\n",
       "  <tbody>\n",
       "    <tr>\n",
       "      <th>0</th>\n",
       "      <td>영국사운드북 디티버드 Ditty Bird 사운드북 26종 골라담기</td>\n",
       "      <td>17,550원</td>\n",
       "      <td>유아</td>\n",
       "    </tr>\n",
       "    <tr>\n",
       "      <th>1</th>\n",
       "      <td>제주 산지직송 과즙팡팡 달콤한 노지황금향 4kg(중과)(맛없으면 무료반품)</td>\n",
       "      <td>18,900원</td>\n",
       "      <td>한라봉/천혜향</td>\n",
       "    </tr>\n",
       "    <tr>\n",
       "      <th>2</th>\n",
       "      <td>하늘보리 500ml x 20입</td>\n",
       "      <td>10,900원</td>\n",
       "      <td>커피/차</td>\n",
       "    </tr>\n",
       "    <tr>\n",
       "      <th>3</th>\n",
       "      <td>사파리_어스본_크리스마스 기획전 세트/낱권 선택구매</td>\n",
       "      <td>32,060원</td>\n",
       "      <td>유아</td>\n",
       "    </tr>\n",
       "    <tr>\n",
       "      <th>4</th>\n",
       "      <td>보온덧신 5켤레 각질 양말 덧신 방한</td>\n",
       "      <td>8,900원</td>\n",
       "      <td>덧신/발목스타킹</td>\n",
       "    </tr>\n",
       "    <tr>\n",
       "      <th>5</th>\n",
       "      <td>생 아몬드 1.5kg(500g+500g+500g)</td>\n",
       "      <td>10,400원</td>\n",
       "      <td>아몬드</td>\n",
       "    </tr>\n",
       "    <tr>\n",
       "      <th>6</th>\n",
       "      <td>(할인특가) 한국가우스-차일드전래/명작동화 : 레인보우펜 옵션선택</td>\n",
       "      <td>155,000원</td>\n",
       "      <td>유아</td>\n",
       "    </tr>\n",
       "    <tr>\n",
       "      <th>7</th>\n",
       "      <td>(버거킹) 더블비프불고기버거+치즈버거+콜라R+콜라R</td>\n",
       "      <td>7,400원</td>\n",
       "      <td>햄버거</td>\n",
       "    </tr>\n",
       "    <tr>\n",
       "      <th>8</th>\n",
       "      <td>T 유통기한24년2월24일 아모제 통살새우볼 500g x 4개</td>\n",
       "      <td>26,000원</td>\n",
       "      <td>기타튀김</td>\n",
       "    </tr>\n",
       "    <tr>\n",
       "      <th>9</th>\n",
       "      <td>어스본_태엽북 7종 전구북 2종 골라담기</td>\n",
       "      <td>30,000원</td>\n",
       "      <td>유아</td>\n",
       "    </tr>\n",
       "  </tbody>\n",
       "</table>\n",
       "</div>"
      ],
      "text/plain": [
       "                                       title     price  category\n",
       "0       영국사운드북 디티버드 Ditty Bird 사운드북 26종 골라담기   17,550원        유아\n",
       "1  제주 산지직송 과즙팡팡 달콤한 노지황금향 4kg(중과)(맛없으면 무료반품)   18,900원   한라봉/천혜향\n",
       "2                           하늘보리 500ml x 20입   10,900원      커피/차\n",
       "3               사파리_어스본_크리스마스 기획전 세트/낱권 선택구매   32,060원        유아\n",
       "4                       보온덧신 5켤레 각질 양말 덧신 방한    8,900원  덧신/발목스타킹\n",
       "5                생 아몬드 1.5kg(500g+500g+500g)   10,400원       아몬드\n",
       "6       (할인특가) 한국가우스-차일드전래/명작동화 : 레인보우펜 옵션선택  155,000원        유아\n",
       "7               (버거킹) 더블비프불고기버거+치즈버거+콜라R+콜라R    7,400원       햄버거\n",
       "8         T 유통기한24년2월24일 아모제 통살새우볼 500g x 4개   26,000원      기타튀김\n",
       "9                     어스본_태엽북 7종 전구북 2종 골라담기   30,000원        유아"
      ]
     },
     "execution_count": 7,
     "metadata": {},
     "output_type": "execute_result"
    }
   ],
   "source": [
    "import pandas as pd\n",
    "data={'title':titlelist,'price':pricelist,'category':catelist}\n",
    "Gmarket=pd.DataFrame(data)\n",
    "Gmarket"
   ]
  },
  {
   "cell_type": "code",
   "execution_count": 8,
   "metadata": {},
   "outputs": [],
   "source": [
    "Gmarket.to_csv('Gmarket.csv',encoding='utf-8-sig')"
   ]
  }
 ],
 "metadata": {
  "kernelspec": {
   "display_name": "Python 3",
   "language": "python",
   "name": "python3"
  },
  "language_info": {
   "codemirror_mode": {
    "name": "ipython",
    "version": 3
   },
   "file_extension": ".py",
   "mimetype": "text/x-python",
   "name": "python",
   "nbconvert_exporter": "python",
   "pygments_lexer": "ipython3",
   "version": "3.8.5"
  }
 },
 "nbformat": 4,
 "nbformat_minor": 4
}
