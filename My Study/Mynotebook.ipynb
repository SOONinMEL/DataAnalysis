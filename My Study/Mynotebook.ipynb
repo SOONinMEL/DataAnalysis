{
 "cells": [
  {
   "cell_type": "markdown",
   "metadata": {},
   "source": [
    "# 10.08.2022"
   ]
  },
  {
   "cell_type": "markdown",
   "metadata": {},
   "source": [
    "<seaborn.heatmap>\n",
    "\n",
    "* seaborn.heatmap (data, *, vmin=None, vmax=None, cmap=None, center=None, robust=False, annot=None, fmt='.2g', annot_kws=None, linewidths=0, linecolor='white', cbar=True, cbar_kws=None, cbar_ax=None, square=False, xticklabels='auto', yticklabels='auto', mask=None, ax=None, **kwargs)\n",
    "\n",
    "\n",
    "* data: rectangular dataset\n",
    "\n",
    "\n",
    "* cmap: matplotlib colormap name or object, or list of colors, optional\n",
    "      ( The mapping from data values to color space. If not provided, the defalut will depend on whether center is set.)\n",
    "\n",
    "\n",
    "* cbar(bool, optional): Whether to draw a colorbar.\n",
    "\n",
    "\n",
    "* xticklabels, yticklabels ('auto',bool,list-like, or int, optional)\n",
    "  :\n",
    "  If True, plot the column names of the dataframe. If False, don’t plot the      column names. If list-like, plot these alternate labels as the xticklabels. If an integer, use the column names but plot only every n label. If “auto”, try to densely plot non-overlapping labels."
   ]
  },
  {
   "cell_type": "markdown",
   "metadata": {},
   "source": [
    "========================================================================="
   ]
  },
  {
   "cell_type": "markdown",
   "metadata": {},
   "source": [
    "<pandas.DataFrame.apply>\n",
    "\n",
    "* DataFrame.apply(func, axis=0, raw=False, result_type=None, args=(), **kwargs)\n",
    "\n",
    "* axis{0 or ‘index’, 1 or ‘columns’}, default 0\n",
    "  Axis along which the function is applied:\n",
    "\n",
    "* 0 or ‘index’: apply function to each column.\n",
    "\n",
    "* 1 or ‘columns’: apply function to each row"
   ]
  },
  {
   "cell_type": "markdown",
   "metadata": {},
   "source": [
    "========================================================================="
   ]
  },
  {
   "cell_type": "markdown",
   "metadata": {},
   "source": [
    "<pandas.get_dummies>\n",
    "\n",
    "pandas.get_dummies(data, prefix=None, prefix_sep='_', dummy_na=False, columns=None, sparse=False, drop_first=False, dtype=None)\n",
    "\n",
    "-->Convert categoricla vaiable into dummy/indicator variables\n",
    "\n",
    "Parameters:\n",
    "\n",
    "* data (array-like, Series, or DataFrame): Data of which to get dummy indicators.\n",
    "\n",
    "\n",
    "* prefix (str, list of str, or dict of str, default None): \n",
    "  String to append DataFrame column names. Pass a list with length equal to the   number of columns when calling get_dummies on a DataFrame. Alternatively,      prefix can be a dictionary mapping column names to prefixes.\n",
    "\n",
    "prefix_sep (str, default ‘_’): \n",
    "If appending prefix, separator/delimiter to use. Or pass a list or dictionary as with prefix.\n",
    "\n",
    "dummy_na (bool, default False): \n",
    "Add a column to indicate NaNs, if False NaNs are ignored.\n",
    "\n",
    "columns (list-like, default None): \n",
    "Column names in the DataFrame to be encoded. If columns is None then all the columns with object or category dtype will be converted.\n",
    "\n",
    "sparse (bool, default False): \n",
    "Whether the dummy-encoded columns should be backed by a SparseArray (True) or a regular NumPy array (False).\n",
    "\n",
    "drop_first(bool, default False): \n",
    "Whether to get k-1 dummies out of k categorical levels by removing the first level.\n",
    "\n",
    "dtyped (type, default np.uint8): \n",
    "Data type for new columns. Only a single dtype is allowed."
   ]
  },
  {
   "cell_type": "markdown",
   "metadata": {},
   "source": [
    "========================================================================="
   ]
  },
  {
   "cell_type": "markdown",
   "metadata": {},
   "source": [
    "<Pandas.DagaFrame.query>\n",
    "\n",
    "* DataFrame.query(expr, inplace=False, **kwargs)\n",
    "  Query the columns of a DataFrame with a boolean expression."
   ]
  },
  {
   "cell_type": "code",
   "execution_count": null,
   "metadata": {},
   "outputs": [],
   "source": []
  }
 ],
 "metadata": {
  "kernelspec": {
   "display_name": "Python 3",
   "language": "python",
   "name": "python3"
  },
  "language_info": {
   "codemirror_mode": {
    "name": "ipython",
    "version": 3
   },
   "file_extension": ".py",
   "mimetype": "text/x-python",
   "name": "python",
   "nbconvert_exporter": "python",
   "pygments_lexer": "ipython3",
   "version": "3.8.5"
  }
 },
 "nbformat": 4,
 "nbformat_minor": 4
}
